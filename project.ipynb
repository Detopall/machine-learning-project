{
 "cells": [
  {
   "attachments": {},
   "cell_type": "markdown",
   "metadata": {},
   "source": [
    "# Project supervised learning - Drunk smurfs\n",
    "\n",
    "Jean-Baptiste Maene - Denis Topallaj - Lander Pauwels Malengier "
   ]
  },
  {
   "attachments": {},
   "cell_type": "markdown",
   "metadata": {},
   "source": [
    "## 0. Data-cleaning"
   ]
  },
  {
   "cell_type": "code",
   "execution_count": 114,
   "metadata": {},
   "outputs": [
    {
     "name": "stderr",
     "output_type": "stream",
     "text": [
      "C:\\Users\\denis\\AppData\\Local\\Temp\\ipykernel_7536\\816365406.py:9: MatplotlibDeprecationWarning: The seaborn styles shipped by Matplotlib are deprecated since 3.6, as they no longer correspond to the styles shipped by seaborn. However, they will remain available as 'seaborn-v0_8-<style>'. Alternatively, directly use the seaborn API instead.\n",
      "  plt.style.use('seaborn-darkgrid')\n"
     ]
    }
   ],
   "source": [
    "# import dependencies\n",
    "\n",
    "%matplotlib inline\n",
    "import numpy as np\n",
    "import pandas as pd\n",
    "import matplotlib as mpl\n",
    "import matplotlib.pyplot as plt\n",
    "import seaborn as sns\n",
    "plt.style.use('seaborn-darkgrid')"
   ]
  },
  {
   "cell_type": "code",
   "execution_count": 115,
   "metadata": {},
   "outputs": [],
   "source": [
    "# read the csv file\n",
    "\n",
    "df = pd.read_csv('train_V2.csv')"
   ]
  },
  {
   "attachments": {},
   "cell_type": "markdown",
   "metadata": {},
   "source": [
    "## 0.1 Drop inconsistent or empty data"
   ]
  },
  {
   "attachments": {},
   "cell_type": "markdown",
   "metadata": {},
   "source": [
    "### 0.1.1 Dropping reoccurring empty rows"
   ]
  },
  {
   "cell_type": "code",
   "execution_count": 116,
   "metadata": {},
   "outputs": [
    {
     "data": {
      "text/plain": [
       "(4947, 53)"
      ]
     },
     "execution_count": 116,
     "metadata": {},
     "output_type": "execute_result"
    }
   ],
   "source": [
    "# when these three columns are not filled, the rest of the data is not filled.\n",
    "# the rows without data are dropped.\n",
    "\n",
    "indexes = df[(df['income_am'].isnull()) & (df['profit_last_am'].isnull()) & (df['profit_am'].isnull())].index\n",
    "\n",
    "df = df.drop(index=indexes.array)\n",
    "\n",
    "df.shape"
   ]
  },
  {
   "attachments": {},
   "cell_type": "markdown",
   "metadata": {},
   "source": [
    "### 0.1.2 Dropping duplicates"
   ]
  },
  {
   "cell_type": "code",
   "execution_count": 117,
   "metadata": {},
   "outputs": [
    {
     "data": {
      "text/html": [
       "<div>\n",
       "<style scoped>\n",
       "    .dataframe tbody tr th:only-of-type {\n",
       "        vertical-align: middle;\n",
       "    }\n",
       "\n",
       "    .dataframe tbody tr th {\n",
       "        vertical-align: top;\n",
       "    }\n",
       "\n",
       "    .dataframe thead th {\n",
       "        text-align: right;\n",
       "    }\n",
       "</style>\n",
       "<table border=\"1\" class=\"dataframe\">\n",
       "  <thead>\n",
       "    <tr style=\"text-align: right;\">\n",
       "      <th></th>\n",
       "      <th>income_am</th>\n",
       "      <th>profit_last_am</th>\n",
       "      <th>profit_am</th>\n",
       "      <th>damage_am</th>\n",
       "      <th>damage_inc</th>\n",
       "      <th>crd_lim_rec</th>\n",
       "      <th>credit_use_ic</th>\n",
       "      <th>gluten_ic</th>\n",
       "      <th>lactose_ic</th>\n",
       "      <th>insurance_ic</th>\n",
       "      <th>...</th>\n",
       "      <th>score2_neg</th>\n",
       "      <th>score3_pos</th>\n",
       "      <th>score3_neg</th>\n",
       "      <th>score4_pos</th>\n",
       "      <th>score4_neg</th>\n",
       "      <th>score5_pos</th>\n",
       "      <th>score5_neg</th>\n",
       "      <th>outcome_profit</th>\n",
       "      <th>outcome_damage_inc</th>\n",
       "      <th>outcome_damage_amount</th>\n",
       "    </tr>\n",
       "  </thead>\n",
       "  <tbody>\n",
       "    <tr>\n",
       "      <th>0</th>\n",
       "      <td>227.0</td>\n",
       "      <td>0.0</td>\n",
       "      <td>3201.0</td>\n",
       "      <td>888.0</td>\n",
       "      <td>6.0</td>\n",
       "      <td>15000.0</td>\n",
       "      <td>0.0</td>\n",
       "      <td>0.0</td>\n",
       "      <td>0.0</td>\n",
       "      <td>0.0</td>\n",
       "      <td>...</td>\n",
       "      <td>NaN</td>\n",
       "      <td>NaN</td>\n",
       "      <td>NaN</td>\n",
       "      <td>0.838147</td>\n",
       "      <td>0.082288</td>\n",
       "      <td>NaN</td>\n",
       "      <td>NaN</td>\n",
       "      <td>1791.66</td>\n",
       "      <td>0</td>\n",
       "      <td>0.00</td>\n",
       "    </tr>\n",
       "    <tr>\n",
       "      <th>1</th>\n",
       "      <td>268.0</td>\n",
       "      <td>16.0</td>\n",
       "      <td>1682.0</td>\n",
       "      <td>0.0</td>\n",
       "      <td>0.0</td>\n",
       "      <td>750.0</td>\n",
       "      <td>0.0</td>\n",
       "      <td>0.0</td>\n",
       "      <td>0.0</td>\n",
       "      <td>1.0</td>\n",
       "      <td>...</td>\n",
       "      <td>NaN</td>\n",
       "      <td>NaN</td>\n",
       "      <td>NaN</td>\n",
       "      <td>NaN</td>\n",
       "      <td>NaN</td>\n",
       "      <td>NaN</td>\n",
       "      <td>7.955259</td>\n",
       "      <td>1672.78</td>\n",
       "      <td>1</td>\n",
       "      <td>829.66</td>\n",
       "    </tr>\n",
       "    <tr>\n",
       "      <th>2</th>\n",
       "      <td>283.0</td>\n",
       "      <td>23.0</td>\n",
       "      <td>1673.0</td>\n",
       "      <td>0.0</td>\n",
       "      <td>0.0</td>\n",
       "      <td>750.0</td>\n",
       "      <td>0.0</td>\n",
       "      <td>0.0</td>\n",
       "      <td>0.0</td>\n",
       "      <td>1.0</td>\n",
       "      <td>...</td>\n",
       "      <td>0.099529</td>\n",
       "      <td>NaN</td>\n",
       "      <td>NaN</td>\n",
       "      <td>NaN</td>\n",
       "      <td>NaN</td>\n",
       "      <td>0.101955</td>\n",
       "      <td>1.743020</td>\n",
       "      <td>1001.40</td>\n",
       "      <td>0</td>\n",
       "      <td>0.00</td>\n",
       "    </tr>\n",
       "    <tr>\n",
       "      <th>3</th>\n",
       "      <td>227.0</td>\n",
       "      <td>0.0</td>\n",
       "      <td>1685.0</td>\n",
       "      <td>0.0</td>\n",
       "      <td>0.0</td>\n",
       "      <td>0.0</td>\n",
       "      <td>0.0</td>\n",
       "      <td>0.0</td>\n",
       "      <td>0.0</td>\n",
       "      <td>0.0</td>\n",
       "      <td>...</td>\n",
       "      <td>NaN</td>\n",
       "      <td>NaN</td>\n",
       "      <td>0.889793</td>\n",
       "      <td>NaN</td>\n",
       "      <td>NaN</td>\n",
       "      <td>NaN</td>\n",
       "      <td>NaN</td>\n",
       "      <td>1785.59</td>\n",
       "      <td>0</td>\n",
       "      <td>0.00</td>\n",
       "    </tr>\n",
       "    <tr>\n",
       "      <th>4</th>\n",
       "      <td>4091.0</td>\n",
       "      <td>1028.0</td>\n",
       "      <td>3425.0</td>\n",
       "      <td>785.0</td>\n",
       "      <td>2.0</td>\n",
       "      <td>14000.0</td>\n",
       "      <td>0.0</td>\n",
       "      <td>0.0</td>\n",
       "      <td>1.0</td>\n",
       "      <td>0.0</td>\n",
       "      <td>...</td>\n",
       "      <td>NaN</td>\n",
       "      <td>0.330503</td>\n",
       "      <td>0.766294</td>\n",
       "      <td>0.490486</td>\n",
       "      <td>0.542445</td>\n",
       "      <td>NaN</td>\n",
       "      <td>NaN</td>\n",
       "      <td>3140.74</td>\n",
       "      <td>0</td>\n",
       "      <td>0.00</td>\n",
       "    </tr>\n",
       "    <tr>\n",
       "      <th>...</th>\n",
       "      <td>...</td>\n",
       "      <td>...</td>\n",
       "      <td>...</td>\n",
       "      <td>...</td>\n",
       "      <td>...</td>\n",
       "      <td>...</td>\n",
       "      <td>...</td>\n",
       "      <td>...</td>\n",
       "      <td>...</td>\n",
       "      <td>...</td>\n",
       "      <td>...</td>\n",
       "      <td>...</td>\n",
       "      <td>...</td>\n",
       "      <td>...</td>\n",
       "      <td>...</td>\n",
       "      <td>...</td>\n",
       "      <td>...</td>\n",
       "      <td>...</td>\n",
       "      <td>...</td>\n",
       "      <td>...</td>\n",
       "      <td>...</td>\n",
       "    </tr>\n",
       "    <tr>\n",
       "      <th>4995</th>\n",
       "      <td>584.0</td>\n",
       "      <td>52.0</td>\n",
       "      <td>1769.0</td>\n",
       "      <td>0.0</td>\n",
       "      <td>0.0</td>\n",
       "      <td>0.0</td>\n",
       "      <td>0.0</td>\n",
       "      <td>0.0</td>\n",
       "      <td>0.0</td>\n",
       "      <td>0.0</td>\n",
       "      <td>...</td>\n",
       "      <td>NaN</td>\n",
       "      <td>0.745643</td>\n",
       "      <td>0.295942</td>\n",
       "      <td>0.830932</td>\n",
       "      <td>0.071366</td>\n",
       "      <td>0.313204</td>\n",
       "      <td>3.739346</td>\n",
       "      <td>2172.82</td>\n",
       "      <td>0</td>\n",
       "      <td>0.00</td>\n",
       "    </tr>\n",
       "    <tr>\n",
       "      <th>4996</th>\n",
       "      <td>227.0</td>\n",
       "      <td>0.0</td>\n",
       "      <td>1620.0</td>\n",
       "      <td>0.0</td>\n",
       "      <td>0.0</td>\n",
       "      <td>0.0</td>\n",
       "      <td>0.0</td>\n",
       "      <td>0.0</td>\n",
       "      <td>0.0</td>\n",
       "      <td>0.0</td>\n",
       "      <td>...</td>\n",
       "      <td>NaN</td>\n",
       "      <td>NaN</td>\n",
       "      <td>NaN</td>\n",
       "      <td>NaN</td>\n",
       "      <td>NaN</td>\n",
       "      <td>NaN</td>\n",
       "      <td>NaN</td>\n",
       "      <td>1057.83</td>\n",
       "      <td>0</td>\n",
       "      <td>0.00</td>\n",
       "    </tr>\n",
       "    <tr>\n",
       "      <th>4997</th>\n",
       "      <td>239.0</td>\n",
       "      <td>5.0</td>\n",
       "      <td>2068.0</td>\n",
       "      <td>0.0</td>\n",
       "      <td>0.0</td>\n",
       "      <td>2500.0</td>\n",
       "      <td>0.0</td>\n",
       "      <td>0.0</td>\n",
       "      <td>0.0</td>\n",
       "      <td>1.0</td>\n",
       "      <td>...</td>\n",
       "      <td>0.049782</td>\n",
       "      <td>NaN</td>\n",
       "      <td>NaN</td>\n",
       "      <td>0.544873</td>\n",
       "      <td>0.331139</td>\n",
       "      <td>NaN</td>\n",
       "      <td>NaN</td>\n",
       "      <td>188.77</td>\n",
       "      <td>0</td>\n",
       "      <td>0.00</td>\n",
       "    </tr>\n",
       "    <tr>\n",
       "      <th>4998</th>\n",
       "      <td>1068.0</td>\n",
       "      <td>104.0</td>\n",
       "      <td>6405.0</td>\n",
       "      <td>490.0</td>\n",
       "      <td>2.0</td>\n",
       "      <td>15000.0</td>\n",
       "      <td>0.0</td>\n",
       "      <td>0.0</td>\n",
       "      <td>0.0</td>\n",
       "      <td>1.0</td>\n",
       "      <td>...</td>\n",
       "      <td>NaN</td>\n",
       "      <td>NaN</td>\n",
       "      <td>NaN</td>\n",
       "      <td>0.580246</td>\n",
       "      <td>0.388815</td>\n",
       "      <td>NaN</td>\n",
       "      <td>NaN</td>\n",
       "      <td>1863.41</td>\n",
       "      <td>0</td>\n",
       "      <td>0.00</td>\n",
       "    </tr>\n",
       "    <tr>\n",
       "      <th>4999</th>\n",
       "      <td>4364.0</td>\n",
       "      <td>162.0</td>\n",
       "      <td>5028.0</td>\n",
       "      <td>0.0</td>\n",
       "      <td>0.0</td>\n",
       "      <td>3000.0</td>\n",
       "      <td>0.0</td>\n",
       "      <td>0.0</td>\n",
       "      <td>0.0</td>\n",
       "      <td>0.0</td>\n",
       "      <td>...</td>\n",
       "      <td>NaN</td>\n",
       "      <td>NaN</td>\n",
       "      <td>NaN</td>\n",
       "      <td>NaN</td>\n",
       "      <td>NaN</td>\n",
       "      <td>0.139825</td>\n",
       "      <td>3.454713</td>\n",
       "      <td>1076.75</td>\n",
       "      <td>0</td>\n",
       "      <td>0.00</td>\n",
       "    </tr>\n",
       "  </tbody>\n",
       "</table>\n",
       "<p>4947 rows × 53 columns</p>\n",
       "</div>"
      ],
      "text/plain": [
       "      income_am  profit_last_am  profit_am  damage_am  damage_inc  \\\n",
       "0         227.0             0.0     3201.0      888.0         6.0   \n",
       "1         268.0            16.0     1682.0        0.0         0.0   \n",
       "2         283.0            23.0     1673.0        0.0         0.0   \n",
       "3         227.0             0.0     1685.0        0.0         0.0   \n",
       "4        4091.0          1028.0     3425.0      785.0         2.0   \n",
       "...         ...             ...        ...        ...         ...   \n",
       "4995      584.0            52.0     1769.0        0.0         0.0   \n",
       "4996      227.0             0.0     1620.0        0.0         0.0   \n",
       "4997      239.0             5.0     2068.0        0.0         0.0   \n",
       "4998     1068.0           104.0     6405.0      490.0         2.0   \n",
       "4999     4364.0           162.0     5028.0        0.0         0.0   \n",
       "\n",
       "      crd_lim_rec  credit_use_ic  gluten_ic  lactose_ic  insurance_ic  ...  \\\n",
       "0         15000.0            0.0        0.0         0.0           0.0  ...   \n",
       "1           750.0            0.0        0.0         0.0           1.0  ...   \n",
       "2           750.0            0.0        0.0         0.0           1.0  ...   \n",
       "3             0.0            0.0        0.0         0.0           0.0  ...   \n",
       "4         14000.0            0.0        0.0         1.0           0.0  ...   \n",
       "...           ...            ...        ...         ...           ...  ...   \n",
       "4995          0.0            0.0        0.0         0.0           0.0  ...   \n",
       "4996          0.0            0.0        0.0         0.0           0.0  ...   \n",
       "4997       2500.0            0.0        0.0         0.0           1.0  ...   \n",
       "4998      15000.0            0.0        0.0         0.0           1.0  ...   \n",
       "4999       3000.0            0.0        0.0         0.0           0.0  ...   \n",
       "\n",
       "      score2_neg  score3_pos  score3_neg  score4_pos  score4_neg  score5_pos  \\\n",
       "0            NaN         NaN         NaN    0.838147    0.082288         NaN   \n",
       "1            NaN         NaN         NaN         NaN         NaN         NaN   \n",
       "2       0.099529         NaN         NaN         NaN         NaN    0.101955   \n",
       "3            NaN         NaN    0.889793         NaN         NaN         NaN   \n",
       "4            NaN    0.330503    0.766294    0.490486    0.542445         NaN   \n",
       "...          ...         ...         ...         ...         ...         ...   \n",
       "4995         NaN    0.745643    0.295942    0.830932    0.071366    0.313204   \n",
       "4996         NaN         NaN         NaN         NaN         NaN         NaN   \n",
       "4997    0.049782         NaN         NaN    0.544873    0.331139         NaN   \n",
       "4998         NaN         NaN         NaN    0.580246    0.388815         NaN   \n",
       "4999         NaN         NaN         NaN         NaN         NaN    0.139825   \n",
       "\n",
       "      score5_neg  outcome_profit  outcome_damage_inc  outcome_damage_amount  \n",
       "0            NaN         1791.66                   0                   0.00  \n",
       "1       7.955259         1672.78                   1                 829.66  \n",
       "2       1.743020         1001.40                   0                   0.00  \n",
       "3            NaN         1785.59                   0                   0.00  \n",
       "4            NaN         3140.74                   0                   0.00  \n",
       "...          ...             ...                 ...                    ...  \n",
       "4995    3.739346         2172.82                   0                   0.00  \n",
       "4996         NaN         1057.83                   0                   0.00  \n",
       "4997         NaN          188.77                   0                   0.00  \n",
       "4998         NaN         1863.41                   0                   0.00  \n",
       "4999    3.454713         1076.75                   0                   0.00  \n",
       "\n",
       "[4947 rows x 53 columns]"
      ]
     },
     "execution_count": 117,
     "metadata": {},
     "output_type": "execute_result"
    }
   ],
   "source": [
    "df.drop_duplicates()"
   ]
  },
  {
   "attachments": {},
   "cell_type": "markdown",
   "metadata": {},
   "source": [
    "### 0.1.3 Dropping outliers"
   ]
  },
  {
   "cell_type": "code",
   "execution_count": 118,
   "metadata": {},
   "outputs": [
    {
     "data": {
      "text/plain": [
       "(4947, 51)"
      ]
     },
     "execution_count": 118,
     "metadata": {},
     "output_type": "execute_result"
    }
   ],
   "source": [
    "# score5_neg has scores ranging from 7995 trillion to -472 trillion and everything in between. score5_neg and score5_pos will be dropped.\n",
    "\n",
    "# looking at the score of the other four scoring systems we can confidently say that score5_neg can be dropped (score5_pos also has to be dropped, because they both make a pair)\n",
    "\n",
    "# quantile score can only range 0 < q < 1\n",
    "\n",
    "if \"score5_pos\" in df.columns and \"score5_neg\" in df.columns:\n",
    "\tdf = df.drop('score5_pos', axis=1)\n",
    "\tdf = df.drop('score5_neg', axis=1)\n",
    "\n",
    "df.shape"
   ]
  },
  {
   "attachments": {},
   "cell_type": "markdown",
   "metadata": {},
   "source": [
    "### 0.1.4 Dropping unethical/'useless' columns"
   ]
  },
  {
   "cell_type": "code",
   "execution_count": 119,
   "metadata": {},
   "outputs": [
    {
     "data": {
      "text/plain": [
       "(4947, 48)"
      ]
     },
     "execution_count": 119,
     "metadata": {},
     "output_type": "execute_result"
    }
   ],
   "source": [
    "# Having gender, place or origin, race ... as a factor to disallow smurfs from entering a hotel is unethical.\n",
    "\n",
    "if \"urban_ic\" in df.columns and \"neighbor_income\" in df.columns and \"gender\" in df.columns:\n",
    "\tdf = df.drop('urban_ic', axis=1)\n",
    "\tdf = df.drop('neighbor_income', axis=1)\n",
    "\tdf = df.drop('gender', axis=1)\n",
    "\n",
    "df.shape"
   ]
  },
  {
   "attachments": {},
   "cell_type": "markdown",
   "metadata": {},
   "source": [
    "### 0.2 Handle missing data"
   ]
  },
  {
   "cell_type": "code",
   "execution_count": 120,
   "metadata": {},
   "outputs": [
    {
     "data": {
      "text/plain": [
       "cab_requests      35\n",
       "dining_ic         35\n",
       "presidential      35\n",
       "tenure_mts       339\n",
       "tenure_yrs       339\n",
       "shop_use          35\n",
       "score1_pos      3722\n",
       "score1_neg      3633\n",
       "score2_pos      3738\n",
       "score2_neg      3643\n",
       "score3_pos      3686\n",
       "score3_neg      3580\n",
       "score4_pos      3724\n",
       "score4_neg      3623\n",
       "dtype: int64"
      ]
     },
     "execution_count": 120,
     "metadata": {},
     "output_type": "execute_result"
    }
   ],
   "source": [
    "# These are the columns with missing data\n",
    "\n",
    "df.isnull().sum()[df.isnull().sum() != 0]"
   ]
  },
  {
   "attachments": {},
   "cell_type": "markdown",
   "metadata": {},
   "source": [
    "### 0.2.1 Using mean for missing data"
   ]
  },
  {
   "cell_type": "code",
   "execution_count": 121,
   "metadata": {},
   "outputs": [
    {
     "data": {
      "text/plain": [
       "tenure_mts     339\n",
       "tenure_yrs     339\n",
       "score1_pos    3722\n",
       "score1_neg    3633\n",
       "score2_pos    3738\n",
       "score2_neg    3643\n",
       "score3_pos    3686\n",
       "score3_neg    3580\n",
       "score4_pos    3724\n",
       "score4_neg    3623\n",
       "dtype: int64"
      ]
     },
     "execution_count": 121,
     "metadata": {},
     "output_type": "execute_result"
    }
   ],
   "source": [
    "from sklearn.impute import SimpleImputer\n",
    "\n",
    "df_mean_imputed = df.copy()\n",
    "\n",
    "# mean worthy columns\n",
    "columns = [\"cab_requests\", \"dining_ic\", \"presidential\", \"shop_use\"]\n",
    "\n",
    "for col in columns:\n",
    "\tmean_imputer = SimpleImputer(missing_values=np.nan, strategy='mean')\n",
    "\n",
    "\tmean_imputer = mean_imputer.fit(np.array(df[col]).reshape(-1, 1))\n",
    " \n",
    "\tdf_mean_imputed[col] = mean_imputer.transform(np.array(df[col]).reshape(-1, 1))\n",
    "\n",
    "df_mean_imputed.isnull().sum()[df_mean_imputed.isnull().sum() != 0]"
   ]
  },
  {
   "attachments": {},
   "cell_type": "markdown",
   "metadata": {},
   "source": [
    "### 0.2.2 Using KNN for missing data"
   ]
  },
  {
   "cell_type": "code",
   "execution_count": 122,
   "metadata": {},
   "outputs": [
    {
     "data": {
      "text/plain": [
       "score1_pos    3722\n",
       "score1_neg    3633\n",
       "score2_pos    3738\n",
       "score2_neg    3643\n",
       "score3_pos    3686\n",
       "score3_neg    3580\n",
       "score4_pos    3724\n",
       "score4_neg    3623\n",
       "dtype: int64"
      ]
     },
     "execution_count": 122,
     "metadata": {},
     "output_type": "execute_result"
    }
   ],
   "source": [
    "# K-Nearest Neighbors (KNN) Imputation will be used for \"tenure_mts\" and \"tenure_yrs\" because it is a good option when the missingness is random, and there is no clear pattern to the missing data.\n",
    "\n",
    "from sklearn.impute import KNNImputer\n",
    "\n",
    "df_knn_imputed = df_mean_imputed.copy()\n",
    "\n",
    "columns = [\"tenure_mts\", \"tenure_yrs\"]\n",
    "\n",
    "for col in columns:\n",
    "\tknn_imputer = KNNImputer(n_neighbors=5)\n",
    "\timputed_col = knn_imputer.fit_transform(df_knn_imputed[[col]])\n",
    "\tdf_knn_imputed[col] = imputed_col\n",
    "\n",
    "df_knn_imputed.isnull().sum()[df_knn_imputed.isnull().sum() != 0]"
   ]
  },
  {
   "attachments": {},
   "cell_type": "markdown",
   "metadata": {},
   "source": [
    "### 0.2.3 Using --SOMETHING-- for missing data"
   ]
  },
  {
   "attachments": {},
   "cell_type": "markdown",
   "metadata": {},
   "source": [
    "FIND A WAY TO FILL IN THE SCORE DATA"
   ]
  },
  {
   "attachments": {},
   "cell_type": "markdown",
   "metadata": {},
   "source": [
    "## 0.3 Changing data types"
   ]
  },
  {
   "attachments": {},
   "cell_type": "markdown",
   "metadata": {},
   "source": [
    "### 0.3.1 changing floats to int"
   ]
  },
  {
   "cell_type": "code",
   "execution_count": 130,
   "metadata": {},
   "outputs": [
    {
     "data": {
      "text/plain": [
       "0       1\n",
       "1       1\n",
       "2       1\n",
       "3       1\n",
       "4       0\n",
       "       ..\n",
       "4995    1\n",
       "4996    1\n",
       "4997    0\n",
       "4998    1\n",
       "4999    0\n",
       "Name: married_cd, Length: 4947, dtype: int64"
      ]
     },
     "execution_count": 130,
     "metadata": {},
     "output_type": "execute_result"
    }
   ],
   "source": [
    "# These columns are not meant to be floats.\n",
    "# ex.: You cannot have 0.214 of a child.\n",
    "# The few that are floats are price related.\n",
    "\n",
    "columns = [\"damage_inc\", \"credit_use_ic\", \"gluten_ic\", \"lactose_ic\", \"insurance_ic\", \"spa_ic\", \"empl_ic\", \"cab_requests\", \"married_cd\", \"bar_no\", \"sport_ic\", \"age\", \"marketing_permit\", \"dining_ic\", \"presidential\", \"client_segment\", \"sect_empl\", \"prev_stay\", \"prev_all_in_stay\", \"divorce\", \"fam_adult_size\", \"children_no\", \"tenure_mts\", \"tenure_yrs\", \"company_ic\", \"claims_no\", \"nights_booked\", \"shop_use\", \"retired\", \"gold_status\"]\n",
    "\n",
    "\n",
    "for col in columns:\n",
    "    if not df[col].empty:\n",
    "        df_knn_imputed[col] = df_knn_imputed[col].astype(np.int64)\n",
    "\n",
    "df_knn_imputed.info()"
   ]
  }
 ],
 "metadata": {
  "kernelspec": {
   "display_name": "project-KreOZjcw",
   "language": "python",
   "name": "python3"
  },
  "language_info": {
   "codemirror_mode": {
    "name": "ipython",
    "version": 3
   },
   "file_extension": ".py",
   "mimetype": "text/x-python",
   "name": "python",
   "nbconvert_exporter": "python",
   "pygments_lexer": "ipython3",
   "version": "3.11.1"
  },
  "orig_nbformat": 4,
  "vscode": {
   "interpreter": {
    "hash": "9d6a6c385d3b1ee503ef124f4469fd6e96237536029e6cbf9e56f9fb8117ec4e"
   }
  }
 },
 "nbformat": 4,
 "nbformat_minor": 2
}
