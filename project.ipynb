{
 "cells": [
  {
   "attachments": {},
   "cell_type": "markdown",
   "metadata": {},
   "source": [
    "# Project supervised learning - Drunk smurfs\n",
    "\n",
    "Jean-Baptiste Maene - Denis Topallaj - Lander Pauwels Malengier "
   ]
  },
  {
   "attachments": {},
   "cell_type": "markdown",
   "metadata": {},
   "source": [
    "## 0. Data-cleaning"
   ]
  },
  {
   "cell_type": "code",
   "execution_count": 96,
   "metadata": {},
   "outputs": [
    {
     "name": "stderr",
     "output_type": "stream",
     "text": [
      "C:\\Users\\denis\\AppData\\Local\\Temp\\ipykernel_24876\\816365406.py:9: MatplotlibDeprecationWarning: The seaborn styles shipped by Matplotlib are deprecated since 3.6, as they no longer correspond to the styles shipped by seaborn. However, they will remain available as 'seaborn-v0_8-<style>'. Alternatively, directly use the seaborn API instead.\n",
      "  plt.style.use('seaborn-darkgrid')\n"
     ]
    }
   ],
   "source": [
    "# import dependencies\n",
    "\n",
    "%matplotlib inline\n",
    "import numpy as np\n",
    "import pandas as pd\n",
    "import matplotlib as mpl\n",
    "import matplotlib.pyplot as plt\n",
    "import seaborn as sns\n",
    "plt.style.use('seaborn-darkgrid')"
   ]
  },
  {
   "cell_type": "code",
   "execution_count": 97,
   "metadata": {},
   "outputs": [],
   "source": [
    "# read the csv file\n",
    "\n",
    "df = pd.read_csv('train_V2.csv')\n",
    "df_test = pd.read_csv('score.csv')"
   ]
  },
  {
   "attachments": {},
   "cell_type": "markdown",
   "metadata": {},
   "source": [
    "## 0.1 Drop inconsistent or empty data"
   ]
  },
  {
   "attachments": {},
   "cell_type": "markdown",
   "metadata": {},
   "source": [
    "### 0.1.1 Dropping reoccurring empty rows"
   ]
  },
  {
   "cell_type": "code",
   "execution_count": 98,
   "metadata": {},
   "outputs": [
    {
     "name": "stdout",
     "output_type": "stream",
     "text": [
      "train (4947, 53)\n",
      "test (496, 50)\n"
     ]
    }
   ],
   "source": [
    "# when these three columns are not filled, the rest of the data is not filled.\n",
    "# the rows without data are dropped.\n",
    "\n",
    "indexes = df[(df['income_am'].isnull()) & (df['profit_last_am'].isnull()) & (df['profit_am'].isnull())].index\n",
    "\n",
    "df = df.drop(index=indexes.array)\n",
    "\n",
    "print('train', df.shape)\n",
    "\n",
    "# same with the test file\n",
    "\n",
    "indexes = df_test[(df_test['income_am'].isnull()) & (df_test['profit_last_am'].isnull()) & (df_test['profit_am'].isnull())].index\n",
    "\n",
    "df_test = df_test.drop(index=indexes.array)\n",
    "\n",
    "print('test', df_test.shape)\n"
   ]
  },
  {
   "attachments": {},
   "cell_type": "markdown",
   "metadata": {},
   "source": [
    "### 0.1.2 Dropping duplicates"
   ]
  },
  {
   "cell_type": "code",
   "execution_count": 99,
   "metadata": {},
   "outputs": [
    {
     "data": {
      "text/html": [
       "<div>\n",
       "<style scoped>\n",
       "    .dataframe tbody tr th:only-of-type {\n",
       "        vertical-align: middle;\n",
       "    }\n",
       "\n",
       "    .dataframe tbody tr th {\n",
       "        vertical-align: top;\n",
       "    }\n",
       "\n",
       "    .dataframe thead th {\n",
       "        text-align: right;\n",
       "    }\n",
       "</style>\n",
       "<table border=\"1\" class=\"dataframe\">\n",
       "  <thead>\n",
       "    <tr style=\"text-align: right;\">\n",
       "      <th></th>\n",
       "      <th>income_am</th>\n",
       "      <th>profit_last_am</th>\n",
       "      <th>profit_am</th>\n",
       "      <th>damage_am</th>\n",
       "      <th>damage_inc</th>\n",
       "      <th>crd_lim_rec</th>\n",
       "      <th>credit_use_ic</th>\n",
       "      <th>gluten_ic</th>\n",
       "      <th>lactose_ic</th>\n",
       "      <th>insurance_ic</th>\n",
       "      <th>...</th>\n",
       "      <th>score1_pos</th>\n",
       "      <th>score1_neg</th>\n",
       "      <th>score2_pos</th>\n",
       "      <th>score2_neg</th>\n",
       "      <th>score3_pos</th>\n",
       "      <th>score3_neg</th>\n",
       "      <th>score4_pos</th>\n",
       "      <th>score4_neg</th>\n",
       "      <th>score5_pos</th>\n",
       "      <th>score5_neg</th>\n",
       "    </tr>\n",
       "  </thead>\n",
       "  <tbody>\n",
       "    <tr>\n",
       "      <th>0</th>\n",
       "      <td>5660.0</td>\n",
       "      <td>4320.0</td>\n",
       "      <td>8640.0</td>\n",
       "      <td>0.0</td>\n",
       "      <td>0.0</td>\n",
       "      <td>8000.0</td>\n",
       "      <td>0.0</td>\n",
       "      <td>0.0</td>\n",
       "      <td>1.0</td>\n",
       "      <td>0.0</td>\n",
       "      <td>...</td>\n",
       "      <td>0.538419</td>\n",
       "      <td>0.396819</td>\n",
       "      <td>0.423742</td>\n",
       "      <td>0.763608</td>\n",
       "      <td>NaN</td>\n",
       "      <td>NaN</td>\n",
       "      <td>NaN</td>\n",
       "      <td>NaN</td>\n",
       "      <td>NaN</td>\n",
       "      <td>NaN</td>\n",
       "    </tr>\n",
       "    <tr>\n",
       "      <th>1</th>\n",
       "      <td>3990.0</td>\n",
       "      <td>9.0</td>\n",
       "      <td>3450.0</td>\n",
       "      <td>0.0</td>\n",
       "      <td>0.0</td>\n",
       "      <td>12500.0</td>\n",
       "      <td>0.0</td>\n",
       "      <td>0.0</td>\n",
       "      <td>0.0</td>\n",
       "      <td>1.0</td>\n",
       "      <td>...</td>\n",
       "      <td>NaN</td>\n",
       "      <td>NaN</td>\n",
       "      <td>NaN</td>\n",
       "      <td>NaN</td>\n",
       "      <td>NaN</td>\n",
       "      <td>NaN</td>\n",
       "      <td>NaN</td>\n",
       "      <td>NaN</td>\n",
       "      <td>NaN</td>\n",
       "      <td>NaN</td>\n",
       "    </tr>\n",
       "    <tr>\n",
       "      <th>2</th>\n",
       "      <td>1158.0</td>\n",
       "      <td>82.0</td>\n",
       "      <td>4194.0</td>\n",
       "      <td>408.0</td>\n",
       "      <td>4.0</td>\n",
       "      <td>12000.0</td>\n",
       "      <td>0.0</td>\n",
       "      <td>0.0</td>\n",
       "      <td>0.0</td>\n",
       "      <td>1.0</td>\n",
       "      <td>...</td>\n",
       "      <td>0.009811</td>\n",
       "      <td>0.592842</td>\n",
       "      <td>NaN</td>\n",
       "      <td>NaN</td>\n",
       "      <td>0.252444</td>\n",
       "      <td>0.724693</td>\n",
       "      <td>0.818064</td>\n",
       "      <td>0.387361</td>\n",
       "      <td>NaN</td>\n",
       "      <td>NaN</td>\n",
       "    </tr>\n",
       "    <tr>\n",
       "      <th>3</th>\n",
       "      <td>2451.0</td>\n",
       "      <td>791.0</td>\n",
       "      <td>2119.0</td>\n",
       "      <td>0.0</td>\n",
       "      <td>0.0</td>\n",
       "      <td>0.0</td>\n",
       "      <td>0.0</td>\n",
       "      <td>0.0</td>\n",
       "      <td>0.0</td>\n",
       "      <td>1.0</td>\n",
       "      <td>...</td>\n",
       "      <td>NaN</td>\n",
       "      <td>NaN</td>\n",
       "      <td>NaN</td>\n",
       "      <td>NaN</td>\n",
       "      <td>NaN</td>\n",
       "      <td>NaN</td>\n",
       "      <td>NaN</td>\n",
       "      <td>NaN</td>\n",
       "      <td>NaN</td>\n",
       "      <td>NaN</td>\n",
       "    </tr>\n",
       "    <tr>\n",
       "      <th>4</th>\n",
       "      <td>946.0</td>\n",
       "      <td>222.0</td>\n",
       "      <td>2036.0</td>\n",
       "      <td>0.0</td>\n",
       "      <td>0.0</td>\n",
       "      <td>0.0</td>\n",
       "      <td>0.0</td>\n",
       "      <td>0.0</td>\n",
       "      <td>1.0</td>\n",
       "      <td>0.0</td>\n",
       "      <td>...</td>\n",
       "      <td>NaN</td>\n",
       "      <td>NaN</td>\n",
       "      <td>NaN</td>\n",
       "      <td>NaN</td>\n",
       "      <td>NaN</td>\n",
       "      <td>NaN</td>\n",
       "      <td>NaN</td>\n",
       "      <td>NaN</td>\n",
       "      <td>NaN</td>\n",
       "      <td>NaN</td>\n",
       "    </tr>\n",
       "    <tr>\n",
       "      <th>...</th>\n",
       "      <td>...</td>\n",
       "      <td>...</td>\n",
       "      <td>...</td>\n",
       "      <td>...</td>\n",
       "      <td>...</td>\n",
       "      <td>...</td>\n",
       "      <td>...</td>\n",
       "      <td>...</td>\n",
       "      <td>...</td>\n",
       "      <td>...</td>\n",
       "      <td>...</td>\n",
       "      <td>...</td>\n",
       "      <td>...</td>\n",
       "      <td>...</td>\n",
       "      <td>...</td>\n",
       "      <td>...</td>\n",
       "      <td>...</td>\n",
       "      <td>...</td>\n",
       "      <td>...</td>\n",
       "      <td>...</td>\n",
       "      <td>...</td>\n",
       "    </tr>\n",
       "    <tr>\n",
       "      <th>495</th>\n",
       "      <td>820.0</td>\n",
       "      <td>216.0</td>\n",
       "      <td>7794.0</td>\n",
       "      <td>1103.0</td>\n",
       "      <td>3.0</td>\n",
       "      <td>9000.0</td>\n",
       "      <td>0.0</td>\n",
       "      <td>0.0</td>\n",
       "      <td>0.0</td>\n",
       "      <td>1.0</td>\n",
       "      <td>...</td>\n",
       "      <td>0.307239</td>\n",
       "      <td>0.660891</td>\n",
       "      <td>NaN</td>\n",
       "      <td>NaN</td>\n",
       "      <td>0.738333</td>\n",
       "      <td>0.914151</td>\n",
       "      <td>NaN</td>\n",
       "      <td>NaN</td>\n",
       "      <td>0.262224</td>\n",
       "      <td>8.060677</td>\n",
       "    </tr>\n",
       "    <tr>\n",
       "      <th>496</th>\n",
       "      <td>6092.0</td>\n",
       "      <td>2100.0</td>\n",
       "      <td>3137.0</td>\n",
       "      <td>0.0</td>\n",
       "      <td>0.0</td>\n",
       "      <td>0.0</td>\n",
       "      <td>0.0</td>\n",
       "      <td>0.0</td>\n",
       "      <td>0.0</td>\n",
       "      <td>0.0</td>\n",
       "      <td>...</td>\n",
       "      <td>NaN</td>\n",
       "      <td>NaN</td>\n",
       "      <td>0.419981</td>\n",
       "      <td>0.668320</td>\n",
       "      <td>NaN</td>\n",
       "      <td>NaN</td>\n",
       "      <td>NaN</td>\n",
       "      <td>NaN</td>\n",
       "      <td>NaN</td>\n",
       "      <td>NaN</td>\n",
       "    </tr>\n",
       "    <tr>\n",
       "      <th>497</th>\n",
       "      <td>2301.0</td>\n",
       "      <td>214.0</td>\n",
       "      <td>2516.0</td>\n",
       "      <td>0.0</td>\n",
       "      <td>0.0</td>\n",
       "      <td>11000.0</td>\n",
       "      <td>0.0</td>\n",
       "      <td>0.0</td>\n",
       "      <td>0.0</td>\n",
       "      <td>0.0</td>\n",
       "      <td>...</td>\n",
       "      <td>0.837325</td>\n",
       "      <td>0.663044</td>\n",
       "      <td>0.697171</td>\n",
       "      <td>0.353229</td>\n",
       "      <td>NaN</td>\n",
       "      <td>NaN</td>\n",
       "      <td>NaN</td>\n",
       "      <td>NaN</td>\n",
       "      <td>NaN</td>\n",
       "      <td>NaN</td>\n",
       "    </tr>\n",
       "    <tr>\n",
       "      <th>498</th>\n",
       "      <td>492.0</td>\n",
       "      <td>0.0</td>\n",
       "      <td>3716.0</td>\n",
       "      <td>713.0</td>\n",
       "      <td>2.0</td>\n",
       "      <td>5000.0</td>\n",
       "      <td>0.0</td>\n",
       "      <td>0.0</td>\n",
       "      <td>0.0</td>\n",
       "      <td>1.0</td>\n",
       "      <td>...</td>\n",
       "      <td>NaN</td>\n",
       "      <td>NaN</td>\n",
       "      <td>NaN</td>\n",
       "      <td>NaN</td>\n",
       "      <td>NaN</td>\n",
       "      <td>NaN</td>\n",
       "      <td>NaN</td>\n",
       "      <td>NaN</td>\n",
       "      <td>0.461598</td>\n",
       "      <td>4.757132</td>\n",
       "    </tr>\n",
       "    <tr>\n",
       "      <th>499</th>\n",
       "      <td>266.0</td>\n",
       "      <td>14.0</td>\n",
       "      <td>1769.0</td>\n",
       "      <td>0.0</td>\n",
       "      <td>0.0</td>\n",
       "      <td>11000.0</td>\n",
       "      <td>0.0</td>\n",
       "      <td>0.0</td>\n",
       "      <td>0.0</td>\n",
       "      <td>1.0</td>\n",
       "      <td>...</td>\n",
       "      <td>NaN</td>\n",
       "      <td>NaN</td>\n",
       "      <td>NaN</td>\n",
       "      <td>NaN</td>\n",
       "      <td>0.643780</td>\n",
       "      <td>0.447084</td>\n",
       "      <td>NaN</td>\n",
       "      <td>NaN</td>\n",
       "      <td>NaN</td>\n",
       "      <td>NaN</td>\n",
       "    </tr>\n",
       "  </tbody>\n",
       "</table>\n",
       "<p>496 rows × 50 columns</p>\n",
       "</div>"
      ],
      "text/plain": [
       "     income_am  profit_last_am  profit_am  damage_am  damage_inc  crd_lim_rec  \\\n",
       "0       5660.0          4320.0     8640.0        0.0         0.0       8000.0   \n",
       "1       3990.0             9.0     3450.0        0.0         0.0      12500.0   \n",
       "2       1158.0            82.0     4194.0      408.0         4.0      12000.0   \n",
       "3       2451.0           791.0     2119.0        0.0         0.0          0.0   \n",
       "4        946.0           222.0     2036.0        0.0         0.0          0.0   \n",
       "..         ...             ...        ...        ...         ...          ...   \n",
       "495      820.0           216.0     7794.0     1103.0         3.0       9000.0   \n",
       "496     6092.0          2100.0     3137.0        0.0         0.0          0.0   \n",
       "497     2301.0           214.0     2516.0        0.0         0.0      11000.0   \n",
       "498      492.0             0.0     3716.0      713.0         2.0       5000.0   \n",
       "499      266.0            14.0     1769.0        0.0         0.0      11000.0   \n",
       "\n",
       "     credit_use_ic  gluten_ic  lactose_ic  insurance_ic  ...  score1_pos  \\\n",
       "0              0.0        0.0         1.0           0.0  ...    0.538419   \n",
       "1              0.0        0.0         0.0           1.0  ...         NaN   \n",
       "2              0.0        0.0         0.0           1.0  ...    0.009811   \n",
       "3              0.0        0.0         0.0           1.0  ...         NaN   \n",
       "4              0.0        0.0         1.0           0.0  ...         NaN   \n",
       "..             ...        ...         ...           ...  ...         ...   \n",
       "495            0.0        0.0         0.0           1.0  ...    0.307239   \n",
       "496            0.0        0.0         0.0           0.0  ...         NaN   \n",
       "497            0.0        0.0         0.0           0.0  ...    0.837325   \n",
       "498            0.0        0.0         0.0           1.0  ...         NaN   \n",
       "499            0.0        0.0         0.0           1.0  ...         NaN   \n",
       "\n",
       "     score1_neg  score2_pos  score2_neg  score3_pos  score3_neg  score4_pos  \\\n",
       "0      0.396819    0.423742    0.763608         NaN         NaN         NaN   \n",
       "1           NaN         NaN         NaN         NaN         NaN         NaN   \n",
       "2      0.592842         NaN         NaN    0.252444    0.724693    0.818064   \n",
       "3           NaN         NaN         NaN         NaN         NaN         NaN   \n",
       "4           NaN         NaN         NaN         NaN         NaN         NaN   \n",
       "..          ...         ...         ...         ...         ...         ...   \n",
       "495    0.660891         NaN         NaN    0.738333    0.914151         NaN   \n",
       "496         NaN    0.419981    0.668320         NaN         NaN         NaN   \n",
       "497    0.663044    0.697171    0.353229         NaN         NaN         NaN   \n",
       "498         NaN         NaN         NaN         NaN         NaN         NaN   \n",
       "499         NaN         NaN         NaN    0.643780    0.447084         NaN   \n",
       "\n",
       "     score4_neg  score5_pos  score5_neg  \n",
       "0           NaN         NaN         NaN  \n",
       "1           NaN         NaN         NaN  \n",
       "2      0.387361         NaN         NaN  \n",
       "3           NaN         NaN         NaN  \n",
       "4           NaN         NaN         NaN  \n",
       "..          ...         ...         ...  \n",
       "495         NaN    0.262224    8.060677  \n",
       "496         NaN         NaN         NaN  \n",
       "497         NaN         NaN         NaN  \n",
       "498         NaN    0.461598    4.757132  \n",
       "499         NaN         NaN         NaN  \n",
       "\n",
       "[496 rows x 50 columns]"
      ]
     },
     "execution_count": 99,
     "metadata": {},
     "output_type": "execute_result"
    }
   ],
   "source": [
    "df.drop_duplicates()\n",
    "\n",
    "df_test.drop_duplicates()"
   ]
  },
  {
   "attachments": {},
   "cell_type": "markdown",
   "metadata": {},
   "source": [
    "### 0.1.3 Dropping outliers"
   ]
  },
  {
   "cell_type": "code",
   "execution_count": 100,
   "metadata": {},
   "outputs": [
    {
     "name": "stdout",
     "output_type": "stream",
     "text": [
      "train (4947, 51)\n",
      "test (496, 48)\n"
     ]
    }
   ],
   "source": [
    "# score5_neg has scores ranging from 7995 trillion to -472 trillion and everything in between. score5_neg and score5_pos will be dropped.\n",
    "\n",
    "# looking at the score of the other four scoring systems we can confidently say that score5_neg can be dropped (score5_pos also has to be dropped, because they both make a pair)\n",
    "\n",
    "# quantile score can only range 0 < q < 1\n",
    "\n",
    "columns = [\"score5_neg\", \"score5_pos\"]\n",
    "\n",
    "for col in columns:\n",
    "    if col in df.columns:\n",
    "        df.drop(col, axis=1, inplace=True)\n",
    "\n",
    "# dropping the score5 for the test data set\n",
    "\n",
    "for col in columns:\n",
    "    if col in df_test.columns:\n",
    "        df_test.drop(col, axis=1, inplace=True)\n",
    "\n",
    "print(\"train\", df.shape)\n",
    "print(\"test\", df_test.shape)"
   ]
  },
  {
   "attachments": {},
   "cell_type": "markdown",
   "metadata": {},
   "source": [
    "### 0.1.4 Dropping unethical/'useless' columns"
   ]
  },
  {
   "cell_type": "code",
   "execution_count": 101,
   "metadata": {},
   "outputs": [
    {
     "name": "stdout",
     "output_type": "stream",
     "text": [
      "train (4947, 48)\n",
      "test (496, 45)\n"
     ]
    }
   ],
   "source": [
    "# Having gender, place or origin, race ... as a factor to disallow smurfs from entering a hotel is unethical.\n",
    "\n",
    "if \"urban_ic\" in df.columns and \"neighbor_income\" in df.columns and \"gender\" in df.columns:\n",
    "\tdf = df.drop('urban_ic', axis=1)\n",
    "\tdf = df.drop('neighbor_income', axis=1)\n",
    "\tdf = df.drop('gender', axis=1)\n",
    " \n",
    "if \"urban_ic\" in df_test.columns and \"neighbor_income\" in df_test.columns and \"gender\" in df_test.columns:\n",
    "\tdf_test = df_test.drop('urban_ic', axis=1)\n",
    "\tdf_test = df_test.drop('neighbor_income', axis=1)\n",
    "\tdf_test = df_test.drop('gender', axis=1)\n",
    "\n",
    "print(\"train\", df.shape)\n",
    "print(\"test\", df_test.shape)"
   ]
  },
  {
   "attachments": {},
   "cell_type": "markdown",
   "metadata": {},
   "source": [
    "## 0.2 Handle missing data"
   ]
  },
  {
   "cell_type": "code",
   "execution_count": 102,
   "metadata": {},
   "outputs": [
    {
     "name": "stdout",
     "output_type": "stream",
     "text": [
      "train\n",
      " cab_requests      35\n",
      "dining_ic         35\n",
      "presidential      35\n",
      "tenure_mts       339\n",
      "tenure_yrs       339\n",
      "shop_use          35\n",
      "score1_pos      3722\n",
      "score1_neg      3633\n",
      "score2_pos      3738\n",
      "score2_neg      3643\n",
      "score3_pos      3686\n",
      "score3_neg      3580\n",
      "score4_pos      3724\n",
      "score4_neg      3623\n",
      "dtype: int64\n",
      "\n",
      "test\n",
      " cab_requests      1\n",
      "dining_ic         1\n",
      "presidential      1\n",
      "tenure_mts       35\n",
      "tenure_yrs       35\n",
      "shop_use          1\n",
      "score1_pos      374\n",
      "score1_neg      362\n",
      "score2_pos      385\n",
      "score2_neg      372\n",
      "score3_pos      360\n",
      "score3_neg      351\n",
      "score4_pos      377\n",
      "score4_neg      370\n",
      "dtype: int64\n"
     ]
    }
   ],
   "source": [
    "# These are the columns with missing data\n",
    "\n",
    "print(\"train\\n\", df.isnull().sum()[df.isnull().sum() != 0])\n",
    "\n",
    "print(\"\\ntest\\n\", df_test.isnull().sum()[df_test.isnull().sum() != 0])"
   ]
  },
  {
   "attachments": {},
   "cell_type": "markdown",
   "metadata": {},
   "source": [
    "### 0.2.1 Using mean for missing data"
   ]
  },
  {
   "cell_type": "code",
   "execution_count": 103,
   "metadata": {},
   "outputs": [
    {
     "name": "stdout",
     "output_type": "stream",
     "text": [
      "train\n",
      " tenure_mts     339\n",
      "tenure_yrs     339\n",
      "score1_pos    3722\n",
      "score1_neg    3633\n",
      "score2_pos    3738\n",
      "score2_neg    3643\n",
      "score3_pos    3686\n",
      "score3_neg    3580\n",
      "score4_pos    3724\n",
      "score4_neg    3623\n",
      "dtype: int64\n",
      "\n",
      "test\n",
      " tenure_mts     35\n",
      "tenure_yrs     35\n",
      "score1_pos    374\n",
      "score1_neg    362\n",
      "score2_pos    385\n",
      "score2_neg    372\n",
      "score3_pos    360\n",
      "score3_neg    351\n",
      "score4_pos    377\n",
      "score4_neg    370\n",
      "dtype: int64\n"
     ]
    }
   ],
   "source": [
    "from sklearn.impute import SimpleImputer\n",
    "\n",
    "df_mean_imputed = df.copy()\n",
    "\n",
    "# mean worthy columns\n",
    "columns = [\"cab_requests\", \"dining_ic\", \"presidential\", \"shop_use\"]\n",
    "\n",
    "for col in columns:\n",
    "\tmean_imputer = SimpleImputer(missing_values=np.nan, strategy='mean')\n",
    "\n",
    "\tmean_imputer = mean_imputer.fit(np.array(df[col]).reshape(-1, 1))\n",
    " \n",
    "\tdf_mean_imputed[col] = mean_imputer.transform(np.array(df[col]).reshape(-1, 1))\n",
    "\n",
    "print(\"train\\n\", df_mean_imputed.isnull().sum()[df_mean_imputed.isnull().sum() != 0])\n",
    "\n",
    "\n",
    "# using mean_imputer for the test data\n",
    "df_mean_imputed_test = df_test.copy()\n",
    "\n",
    "# mean worthy columns\n",
    "columns = [\"cab_requests\", \"dining_ic\", \"presidential\", \"shop_use\"]\n",
    "\n",
    "for col in columns:\n",
    "\tmean_imputer = SimpleImputer(missing_values=np.nan, strategy='mean')\n",
    "\n",
    "\tmean_imputer = mean_imputer.fit(np.array(df_test[col]).reshape(-1, 1))\n",
    " \n",
    "\tdf_mean_imputed_test[col] = mean_imputer.transform(np.array(df_test[col]).reshape(-1, 1))\n",
    "\n",
    "print(\"\\ntest\\n\", df_mean_imputed_test.isnull().sum()[df_mean_imputed_test.isnull().sum() != 0])\n",
    "\n"
   ]
  },
  {
   "attachments": {},
   "cell_type": "markdown",
   "metadata": {},
   "source": [
    "### 0.2.2 Using KNN for missing data"
   ]
  },
  {
   "cell_type": "code",
   "execution_count": 104,
   "metadata": {},
   "outputs": [
    {
     "name": "stdout",
     "output_type": "stream",
     "text": [
      "train\n",
      " score1_pos    3722\n",
      "score1_neg    3633\n",
      "score2_pos    3738\n",
      "score2_neg    3643\n",
      "score3_pos    3686\n",
      "score3_neg    3580\n",
      "score4_pos    3724\n",
      "score4_neg    3623\n",
      "dtype: int64\n",
      "\n",
      "test\n",
      " score1_pos    374\n",
      "score1_neg    362\n",
      "score2_pos    385\n",
      "score2_neg    372\n",
      "score3_pos    360\n",
      "score3_neg    351\n",
      "score4_pos    377\n",
      "score4_neg    370\n",
      "dtype: int64\n"
     ]
    }
   ],
   "source": [
    "# K-Nearest Neighbors (KNN) Imputation will be used for \"tenure_mts\" and \"tenure_yrs\" because it is a good option when the missingness is random, and there is no clear pattern to the missing data.\n",
    "\n",
    "from sklearn.impute import KNNImputer\n",
    "\n",
    "df_knn_imputed = df_mean_imputed.copy()\n",
    "\n",
    "columns = [\"tenure_mts\", \"tenure_yrs\"]\n",
    "\n",
    "for col in columns:\n",
    "\tknn_imputer = KNNImputer(n_neighbors=5)\n",
    "\timputed_col = knn_imputer.fit_transform(df_knn_imputed[[col]])\n",
    "\tdf_knn_imputed[col] = imputed_col\n",
    "\n",
    "print(\"train\\n\", df_knn_imputed.isnull().sum()[df_knn_imputed.isnull().sum() != 0])\n",
    "\n",
    "\n",
    "# using the KNNImputer for the test data set\n",
    "\n",
    "df_knn_imputed_test = df_mean_imputed_test.copy()\n",
    "\n",
    "columns = [\"tenure_mts\", \"tenure_yrs\"]\n",
    "\n",
    "for col in columns:\n",
    "\tknn_imputer = KNNImputer(n_neighbors=5)\n",
    "\timputed_col = knn_imputer.fit_transform(df_knn_imputed_test[[col]])\n",
    "\tdf_knn_imputed_test[col] = imputed_col\n",
    "\n",
    "print(\"\\ntest\\n\", df_knn_imputed_test.isnull().sum()[df_knn_imputed_test.isnull().sum() != 0])"
   ]
  },
  {
   "attachments": {},
   "cell_type": "markdown",
   "metadata": {},
   "source": [
    "### 0.2.3 Handle missing data for scores"
   ]
  },
  {
   "cell_type": "code",
   "execution_count": 105,
   "metadata": {},
   "outputs": [],
   "source": [
    "# DROPPING THE SCORES BECAUSE CANNOT FIND A GOOD METHOD TO FILL IN THE DATA ATM\n",
    "\n",
    "columns=[\"score1_neg\", \"score1_pos\", \"score2_pos\", \"score2_neg\", \"score3_pos\", \"score3_neg\", \"score4_pos\", \"score4_neg\"]\n",
    "\n",
    "for col in columns:\n",
    "    if col in df_knn_imputed.columns:\n",
    "        df_knn_imputed.drop(col, axis=1, inplace=True)\n",
    "\n",
    "for col in columns:\n",
    "    if col in df_knn_imputed_test.columns:\n",
    "        df_knn_imputed_test.drop(col, axis=1, inplace=True)\n",
    "\n",
    "# THIS IS SO THAT I CAN CONTINUE WITH OTHER STUFF\n",
    "## IF A GOOD METHOD HAS BEEN FOUND TO FILL IN DATA, THEN THIS BLOCK WILL BE CHANGED \n"
   ]
  },
  {
   "attachments": {},
   "cell_type": "markdown",
   "metadata": {},
   "source": [
    "## 0.3 Changing data types"
   ]
  },
  {
   "attachments": {},
   "cell_type": "markdown",
   "metadata": {},
   "source": [
    "### 0.3.1 changing floats to int"
   ]
  },
  {
   "cell_type": "code",
   "execution_count": 106,
   "metadata": {},
   "outputs": [
    {
     "name": "stdout",
     "output_type": "stream",
     "text": [
      "<class 'pandas.core.frame.DataFrame'>\n",
      "Int64Index: 4947 entries, 0 to 4999\n",
      "Data columns (total 40 columns):\n",
      " #   Column                 Non-Null Count  Dtype  \n",
      "---  ------                 --------------  -----  \n",
      " 0   income_am              4947 non-null   float64\n",
      " 1   profit_last_am         4947 non-null   float64\n",
      " 2   profit_am              4947 non-null   float64\n",
      " 3   damage_am              4947 non-null   float64\n",
      " 4   damage_inc             4947 non-null   uint8  \n",
      " 5   crd_lim_rec            4947 non-null   float64\n",
      " 6   credit_use_ic          4947 non-null   uint8  \n",
      " 7   gluten_ic              4947 non-null   uint8  \n",
      " 8   lactose_ic             4947 non-null   uint8  \n",
      " 9   insurance_ic           4947 non-null   uint8  \n",
      " 10  spa_ic                 4947 non-null   uint8  \n",
      " 11  empl_ic                4947 non-null   uint8  \n",
      " 12  cab_requests           4947 non-null   uint8  \n",
      " 13  married_cd             4947 non-null   uint8  \n",
      " 14  bar_no                 4947 non-null   uint8  \n",
      " 15  sport_ic               4947 non-null   uint8  \n",
      " 16  age                    4947 non-null   uint8  \n",
      " 17  marketing_permit       4947 non-null   uint8  \n",
      " 18  dining_ic              4947 non-null   uint8  \n",
      " 19  presidential           4947 non-null   uint8  \n",
      " 20  client_segment         4947 non-null   uint8  \n",
      " 21  sect_empl              4947 non-null   uint8  \n",
      " 22  prev_stay              4947 non-null   uint8  \n",
      " 23  prev_all_in_stay       4947 non-null   uint8  \n",
      " 24  divorce                4947 non-null   uint8  \n",
      " 25  fam_adult_size         4947 non-null   uint8  \n",
      " 26  children_no            4947 non-null   uint8  \n",
      " 27  tenure_mts             4947 non-null   uint8  \n",
      " 28  tenure_yrs             4947 non-null   uint8  \n",
      " 29  company_ic             4947 non-null   uint8  \n",
      " 30  claims_no              4947 non-null   uint8  \n",
      " 31  claims_am              4947 non-null   float64\n",
      " 32  nights_booked          4947 non-null   uint8  \n",
      " 33  shop_am                4947 non-null   float64\n",
      " 34  shop_use               4947 non-null   uint8  \n",
      " 35  retired                4947 non-null   uint8  \n",
      " 36  gold_status            4947 non-null   uint8  \n",
      " 37  outcome_profit         4947 non-null   float64\n",
      " 38  outcome_damage_inc     4947 non-null   int64  \n",
      " 39  outcome_damage_amount  4947 non-null   float64\n",
      "dtypes: float64(9), int64(1), uint8(30)\n",
      "memory usage: 570.1 KB\n",
      "train\n",
      " None\n",
      "<class 'pandas.core.frame.DataFrame'>\n",
      "Int64Index: 496 entries, 0 to 499\n",
      "Data columns (total 37 columns):\n",
      " #   Column            Non-Null Count  Dtype  \n",
      "---  ------            --------------  -----  \n",
      " 0   income_am         496 non-null    float64\n",
      " 1   profit_last_am    496 non-null    float64\n",
      " 2   profit_am         496 non-null    float64\n",
      " 3   damage_am         496 non-null    float64\n",
      " 4   damage_inc        496 non-null    uint8  \n",
      " 5   crd_lim_rec       496 non-null    float64\n",
      " 6   credit_use_ic     496 non-null    uint8  \n",
      " 7   gluten_ic         496 non-null    uint8  \n",
      " 8   lactose_ic        496 non-null    uint8  \n",
      " 9   insurance_ic      496 non-null    uint8  \n",
      " 10  spa_ic            496 non-null    uint8  \n",
      " 11  empl_ic           496 non-null    uint8  \n",
      " 12  cab_requests      496 non-null    uint8  \n",
      " 13  married_cd        496 non-null    uint8  \n",
      " 14  bar_no            496 non-null    uint8  \n",
      " 15  sport_ic          496 non-null    uint8  \n",
      " 16  age               496 non-null    uint8  \n",
      " 17  marketing_permit  496 non-null    uint8  \n",
      " 18  dining_ic         496 non-null    uint8  \n",
      " 19  presidential      496 non-null    uint8  \n",
      " 20  client_segment    496 non-null    uint8  \n",
      " 21  sect_empl         496 non-null    uint8  \n",
      " 22  prev_stay         496 non-null    uint8  \n",
      " 23  prev_all_in_stay  496 non-null    uint8  \n",
      " 24  divorce           496 non-null    uint8  \n",
      " 25  fam_adult_size    496 non-null    uint8  \n",
      " 26  children_no       496 non-null    uint8  \n",
      " 27  tenure_mts        496 non-null    uint8  \n",
      " 28  tenure_yrs        496 non-null    uint8  \n",
      " 29  company_ic        496 non-null    uint8  \n",
      " 30  claims_no         496 non-null    uint8  \n",
      " 31  claims_am         496 non-null    float64\n",
      " 32  nights_booked     496 non-null    uint8  \n",
      " 33  shop_am           496 non-null    float64\n",
      " 34  shop_use          496 non-null    uint8  \n",
      " 35  retired           496 non-null    uint8  \n",
      " 36  gold_status       496 non-null    uint8  \n",
      "dtypes: float64(7), uint8(30)\n",
      "memory usage: 45.5 KB\n",
      "\n",
      "test\n",
      " None\n"
     ]
    }
   ],
   "source": [
    "# These columns are not meant to be floats.\n",
    "# ex.: You cannot have 0.214 of a child.\n",
    "# The few that are floats are price or time related.\n",
    "\n",
    "columns = [\"damage_inc\", \"credit_use_ic\", \"gluten_ic\", \"lactose_ic\", \"insurance_ic\", \"spa_ic\", \"empl_ic\", \"cab_requests\", \"married_cd\", \"bar_no\", \"sport_ic\", \"age\", \"marketing_permit\", \"dining_ic\", \"presidential\", \"client_segment\", \"sect_empl\", \"prev_stay\", \"prev_all_in_stay\", \"divorce\", \"fam_adult_size\", \"children_no\", \"tenure_mts\", \"tenure_yrs\", \"company_ic\", \"claims_no\", \"nights_booked\", \"shop_use\", \"retired\", \"gold_status\"]\n",
    "\n",
    "\n",
    "for col in columns:\n",
    "    if not df_knn_imputed[col].empty:\n",
    "        df_knn_imputed[col] = df_knn_imputed[col].astype(np.uint8)\n",
    "        \n",
    "print(\"train\\n\", df_knn_imputed.info())\n",
    "\n",
    "# change type to uint8 for the test data set\n",
    "\n",
    "for col in columns:\n",
    "    if not df_knn_imputed_test[col].empty:\n",
    "        df_knn_imputed_test[col] = df_knn_imputed_test[col].astype(np.uint8)\n",
    "\n",
    "print(\"\\ntest\\n\", df_knn_imputed_test.info())"
   ]
  },
  {
   "attachments": {},
   "cell_type": "markdown",
   "metadata": {},
   "source": [
    "## 0.4 Storing cleaned dataset"
   ]
  },
  {
   "cell_type": "code",
   "execution_count": 107,
   "metadata": {},
   "outputs": [],
   "source": [
    "# the cleaned csv will now be in the file train_V2_cleaned and will be used for the rest of the calculations\n",
    "\n",
    "df_knn_imputed.to_csv('train_V2_cleaned.csv', index=False)\n",
    "df_knn_imputed.to_csv('score_cleaned.csv', index=False)"
   ]
  },
  {
   "attachments": {},
   "cell_type": "markdown",
   "metadata": {},
   "source": [
    "# 1.0 Projected revenue per client"
   ]
  },
  {
   "cell_type": "code",
   "execution_count": 108,
   "metadata": {},
   "outputs": [
    {
     "name": "stdout",
     "output_type": "stream",
     "text": [
      "<class 'pandas.core.frame.DataFrame'>\n",
      "RangeIndex: 4947 entries, 0 to 4946\n",
      "Data columns (total 40 columns):\n",
      " #   Column                 Non-Null Count  Dtype  \n",
      "---  ------                 --------------  -----  \n",
      " 0   income_am              4947 non-null   float64\n",
      " 1   profit_last_am         4947 non-null   float64\n",
      " 2   profit_am              4947 non-null   float64\n",
      " 3   damage_am              4947 non-null   float64\n",
      " 4   damage_inc             4947 non-null   int64  \n",
      " 5   crd_lim_rec            4947 non-null   float64\n",
      " 6   credit_use_ic          4947 non-null   int64  \n",
      " 7   gluten_ic              4947 non-null   int64  \n",
      " 8   lactose_ic             4947 non-null   int64  \n",
      " 9   insurance_ic           4947 non-null   int64  \n",
      " 10  spa_ic                 4947 non-null   int64  \n",
      " 11  empl_ic                4947 non-null   int64  \n",
      " 12  cab_requests           4947 non-null   int64  \n",
      " 13  married_cd             4947 non-null   int64  \n",
      " 14  bar_no                 4947 non-null   int64  \n",
      " 15  sport_ic               4947 non-null   int64  \n",
      " 16  age                    4947 non-null   int64  \n",
      " 17  marketing_permit       4947 non-null   int64  \n",
      " 18  dining_ic              4947 non-null   int64  \n",
      " 19  presidential           4947 non-null   int64  \n",
      " 20  client_segment         4947 non-null   int64  \n",
      " 21  sect_empl              4947 non-null   int64  \n",
      " 22  prev_stay              4947 non-null   int64  \n",
      " 23  prev_all_in_stay       4947 non-null   int64  \n",
      " 24  divorce                4947 non-null   int64  \n",
      " 25  fam_adult_size         4947 non-null   int64  \n",
      " 26  children_no            4947 non-null   int64  \n",
      " 27  tenure_mts             4947 non-null   int64  \n",
      " 28  tenure_yrs             4947 non-null   int64  \n",
      " 29  company_ic             4947 non-null   int64  \n",
      " 30  claims_no              4947 non-null   int64  \n",
      " 31  claims_am              4947 non-null   float64\n",
      " 32  nights_booked          4947 non-null   int64  \n",
      " 33  shop_am                4947 non-null   float64\n",
      " 34  shop_use               4947 non-null   int64  \n",
      " 35  retired                4947 non-null   int64  \n",
      " 36  gold_status            4947 non-null   int64  \n",
      " 37  outcome_profit         4947 non-null   float64\n",
      " 38  outcome_damage_inc     4947 non-null   int64  \n",
      " 39  outcome_damage_amount  4947 non-null   float64\n",
      "dtypes: float64(9), int64(31)\n",
      "memory usage: 1.5 MB\n"
     ]
    }
   ],
   "source": [
    "df = pd.read_csv('train_V2_cleaned.csv')\n",
    "\n",
    "df.info()"
   ]
  },
  {
   "attachments": {},
   "cell_type": "markdown",
   "metadata": {},
   "source": [
    "## 1.1 Train/test-spit and standardisation"
   ]
  },
  {
   "attachments": {},
   "cell_type": "markdown",
   "metadata": {},
   "source": [
    "### 1.1.1 Shuffle data"
   ]
  },
  {
   "cell_type": "code",
   "execution_count": 109,
   "metadata": {},
   "outputs": [],
   "source": [
    "from random import Random\n",
    "df_shuffle = df.sample(frac=1, random_state=123)"
   ]
  },
  {
   "attachments": {},
   "cell_type": "markdown",
   "metadata": {},
   "source": [
    "### 1.1.2 Train/test-split"
   ]
  },
  {
   "cell_type": "code",
   "execution_count": 110,
   "metadata": {},
   "outputs": [
    {
     "name": "stderr",
     "output_type": "stream",
     "text": [
      "C:\\Users\\denis\\AppData\\Local\\Temp\\ipykernel_24876\\3570332103.py:3: FutureWarning: In a future version of pandas all arguments of DataFrame.drop except for the argument 'labels' will be keyword-only.\n",
      "  X = df_shuffle.drop(['outcome_profit'],1)\n"
     ]
    }
   ],
   "source": [
    "from sklearn.model_selection import train_test_split\n",
    "\n",
    "X = df_shuffle.drop(['outcome_profit'],1)\n",
    "y = df_shuffle['outcome_profit']\n",
    "\n",
    "X_train, X_test, y_train, y_test = train_test_split(X, y, test_size=0.2, random_state=123)"
   ]
  },
  {
   "attachments": {},
   "cell_type": "markdown",
   "metadata": {},
   "source": [
    "### 1.1.3 Standardise"
   ]
  },
  {
   "cell_type": "code",
   "execution_count": 111,
   "metadata": {},
   "outputs": [],
   "source": [
    "from sklearn.preprocessing import StandardScaler\n",
    "\n",
    "num_feat = X_train.select_dtypes(include=['uint8', 'float64']).columns\n",
    "\n",
    "scaler = StandardScaler()\n",
    "\n",
    "scaler.fit(X_train[num_feat])\n",
    "\n",
    "X_train_stand = X_train.copy()\n",
    "X_test_stand = X_test.copy()\n",
    "\n",
    "X_train_stand[num_feat] = scaler.fit_transform(X_train[num_feat])\n",
    "X_test_stand[num_feat] = scaler.transform(X_test[num_feat])"
   ]
  },
  {
   "attachments": {},
   "cell_type": "markdown",
   "metadata": {},
   "source": [
    "## 1.2 Polynomial regression"
   ]
  },
  {
   "attachments": {},
   "cell_type": "markdown",
   "metadata": {},
   "source": [
    "### 1.2.1 Cross-validation"
   ]
  },
  {
   "cell_type": "code",
   "execution_count": 112,
   "metadata": {},
   "outputs": [],
   "source": [
    "# Calculate the best degree to use using the average score with cross-validation\n",
    "from sklearn.pipeline import Pipeline\n",
    "from sklearn.preprocessing import PolynomialFeatures\n",
    "from sklearn.model_selection import cross_val_score\n",
    "from sklearn.linear_model import LinearRegression\n",
    "\n",
    "avg_scores = [None] * 3\n",
    "sd_scores = [None] * 3\n",
    "for i in np.arange(0,3):\n",
    "    reg_poly = Pipeline([('stand', StandardScaler()),\n",
    "                  ('poly', PolynomialFeatures(degree=i)),\n",
    "                  ('linear', LinearRegression(fit_intercept=False))])\n",
    "    \n",
    "    scores = cross_val_score(reg_poly, X_train, y_train, scoring = 'r2', cv=5)\n",
    "\n",
    "    avg_scores[i] = scores.mean()\n",
    "    sd_scores[i] = np.sqrt(scores.var())/np.sqrt(5)"
   ]
  },
  {
   "cell_type": "code",
   "execution_count": 113,
   "metadata": {},
   "outputs": [
    {
     "data": {
      "image/png": "[encoded data removed]",
      "text/plain": [
       "<Figure size 800x600 with 1 Axes>"
      ]
     },
     "metadata": {},
     "output_type": "display_data"
    }
   ],
   "source": [
    "# Plotting the results\n",
    "\n",
    "fig, ax = plt.subplots(figsize=(8, 6))\n",
    "plt.scatter(np.arange(1,4), avg_scores, c='b', label='data')\n",
    "plt.axis('tight')\n",
    "plt.title(\"Cross-validation polynomials\")\n",
    "ax.set_xlabel(\"Order\");\n",
    "ax.set_ylabel(\"CV R^2\");\n",
    "plt.tight_layout()\n",
    "plt.show()"
   ]
  },
  {
   "cell_type": "code",
   "execution_count": 114,
   "metadata": {},
   "outputs": [
    {
     "name": "stdout",
     "output_type": "stream",
     "text": [
      "The order with maximum R^2 is 1\n"
     ]
    }
   ],
   "source": [
    "# The best order with the maximum R^2?\n",
    "\n",
    "max_value = max(avg_scores)\n",
    "max_index = avg_scores.index(max_value)\n",
    "print('The order with maximum R^2 is '+str(max_index))"
   ]
  },
  {
   "cell_type": "code",
   "execution_count": 115,
   "metadata": {},
   "outputs": [
    {
     "name": "stdout",
     "output_type": "stream",
     "text": [
      "0.37536023807359387\n",
      "0.4072360753333407\n"
     ]
    }
   ],
   "source": [
    "# Show the best score with the training set and testing set\n",
    "\n",
    "reg_poly2 = Pipeline([('stand', StandardScaler()),\n",
    "                  ('poly', PolynomialFeatures(degree=1)),\n",
    "                  ('linear', LinearRegression(fit_intercept=False))])\n",
    "reg_poly2.fit(X_train, y_train)\n",
    "print(reg_poly2.score(X_train, y_train))\n",
    "print(reg_poly2.score(X_test, y_test))"
   ]
  }
 ],
 "metadata": {
  "kernelspec": {
   "display_name": "project-KreOZjcw",
   "language": "python",
   "name": "python3"
  },
  "language_info": {
   "codemirror_mode": {
    "name": "ipython",
    "version": 3
   },
   "file_extension": ".py",
   "mimetype": "text/x-python",
   "name": "python",
   "nbconvert_exporter": "python",
   "pygments_lexer": "ipython3",
   "version": "3.11.1"
  },
  "orig_nbformat": 4,
  "vscode": {
   "interpreter": {
    "hash": "9d6a6c385d3b1ee503ef124f4469fd6e96237536029e6cbf9e56f9fb8117ec4e"
   }
  }
 },
 "nbformat": 4,
 "nbformat_minor": 2
}
