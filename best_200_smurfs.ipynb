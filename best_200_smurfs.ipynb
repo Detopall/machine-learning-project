{
 "cells": [
  {
   "attachments": {},
   "cell_type": "markdown",
   "metadata": {},
   "source": [
    "# 4. Retrieving the best 200 smurfs"
   ]
  },
  {
   "attachments": {},
   "cell_type": "markdown",
   "metadata": {},
   "source": [
    "These criteria will be discussed inside the report, but in short: the more profit, income, cab requests, time spent in shops, scores from the staff, activities you partake in, outcome profit ... the better. On the other hand if you cause more damage, visit the bar often, have bad rating from staff ... the worse."
   ]
  },
  {
   "cell_type": "code",
   "execution_count": 17,
   "metadata": {},
   "outputs": [],
   "source": [
    "import pandas as pd\n",
    "\n",
    "# Load the dataset into a Pandas DataFrame\n",
    "df = pd.read_csv('score_cleaned.csv')\n",
    "\n",
    "# Define the columns to sort by\n",
    "columns_to_sort_by = ['income_am', 'profit_last_am', 'profit_am', 'crd_lim_rec', 'cab_requests', 'neighbor_income', 'nights_booked', 'shop_am', 'score_pos', 'insured', 'spa', 'sport', 'marketing_perm', 'yes_presidential', 'yes_prev_all_in_stay', 'yes_shop_use', 'yes_gold_status', 'outcome_profit']\n",
    "\n",
    "# Sort the DataFrame in descending order of the selected columns\n",
    "df = df.sort_values(by=columns_to_sort_by, ascending=False)\n",
    "\n",
    "# Define the columns to filter by\n",
    "columns_to_filter_by = ['damage_am', 'damage_inc', 'bar_no', 'outcome_damage_inc', 'outcome_damage_amount', 'score_neg']\n",
    "\n",
    "# Sort the DataFrame in ascending order of the selected columns\n",
    "df = df.sort_values(by=columns_to_filter_by, ascending=True)\n",
    "\n",
    "# Select the top 200 customers\n",
    "top_customers = df.head(200)\n",
    "\n",
    "# Clear the contents of the output file\n",
    "with open('top_customers.csv', 'w', newline='') as f:\n",
    "    pass\n",
    "\n",
    "# Save the filtered dataset to a new file\n",
    "top_customers.to_csv('top_customers.csv', index=False)"
   ]
  },
  {
   "attachments": {},
   "cell_type": "markdown",
   "metadata": {},
   "source": [
    "We will now take the average of each feature and add the result at the end of the excel file. This smurf would be the most ideal smurf that has ever smurfed."
   ]
  },
  {
   "cell_type": "code",
   "execution_count": 18,
   "metadata": {},
   "outputs": [
    {
     "name": "stdout",
     "output_type": "stream",
     "text": [
      "                 income_am profit_last_am profit_am damage_am damage_inc  \\\n",
      "Feature Averages   1617.28         448.32   2655.42      0.00       0.00   \n",
      "\n",
      "                 crd_lim_rec cab_requests bar_no neighbor_income    age  ...  \\\n",
      "Feature Averages     1809.05         5.69   2.53        32536.67  44.93  ...   \n",
      "\n",
      "                 company_card no_shop_use yes_shop_use not_retired  \\\n",
      "Feature Averages         0.99        0.09         0.91        0.20   \n",
      "\n",
      "                 yes_retired no_gold_status yes_gold_status outcome_profit  \\\n",
      "Feature Averages        0.80           0.03            0.97        1919.58   \n",
      "\n",
      "                 outcome_damage_inc outcome_damage_amount  \n",
      "Feature Averages               0.06                 24.49  \n",
      "\n",
      "[1 rows x 59 columns]\n"
     ]
    }
   ],
   "source": [
    "# Compute the averages of each column, excluding the first row\n",
    "avg = top_customers.iloc[1:, :].mean(axis=0)\n",
    "\n",
    "# Create a new row with the averages\n",
    "new_row = pd.DataFrame(avg).transpose()\n",
    "\n",
    "# Set the index of the new row to 'Feature Averages'\n",
    "new_row.index = ['Feature Averages']\n",
    "\n",
    "# Append the new row to the original DataFrame\n",
    "top_customers = pd.concat([top_customers, new_row], axis=0)\n",
    "\n",
    "# Convert to two decimal numbers\n",
    "top_customers.iloc[-1] = top_customers.iloc[-1].apply(lambda x: '{:.2f}'.format(x) if isinstance(x, float) else x)\n",
    "\n",
    "top_customers.to_csv('top_customers.csv', index=False)"
   ]
  }
 ],
 "metadata": {
  "kernelspec": {
   "display_name": "project-KreOZjcw",
   "language": "python",
   "name": "python3"
  },
  "language_info": {
   "codemirror_mode": {
    "name": "ipython",
    "version": 3
   },
   "file_extension": ".py",
   "mimetype": "text/x-python",
   "name": "python",
   "nbconvert_exporter": "python",
   "pygments_lexer": "ipython3",
   "version": "3.11.1"
  },
  "orig_nbformat": 4
 },
 "nbformat": 4,
 "nbformat_minor": 2
}
