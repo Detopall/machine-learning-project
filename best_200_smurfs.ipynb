{
 "cells": [
  {
   "attachments": {},
   "cell_type": "markdown",
   "metadata": {},
   "source": [
    "# 4. Retrieving the best 200 smurfs"
   ]
  },
  {
   "attachments": {},
   "cell_type": "markdown",
   "metadata": {},
   "source": [
    "These criteria will be discussed inside the report, but in short: the more profit, income, cab requests, time spent in shops, scores from the staff, activities you partake in, outcome profit ... the better. On the other hand if you cause more damage, visit the bar often, have bad rating from staff ... the worse."
   ]
  },
  {
   "cell_type": "code",
   "execution_count": 1,
   "metadata": {},
   "outputs": [],
   "source": [
    "import pandas as pd\n",
    "\n",
    "# Load the dataset into a Pandas DataFrame\n",
    "df = pd.read_csv('score_cleaned.csv')\n",
    "\n",
    "# Define the columns to sort by\n",
    "columns_to_sort_by = ['income_am', 'profit_last_am', 'profit_am', 'crd_lim_rec', 'cab_requests', 'neighbor_income', 'nights_booked', 'shop_am', 'score_pos', 'insured', 'spa', 'sport', 'marketing_perm', 'yes_presidential', 'yes_prev_all_in_stay', 'yes_shop_use', 'yes_gold_status', 'outcome_profit']\n",
    "\n",
    "# Sort the DataFrame in descending order of the selected columns\n",
    "df = df.sort_values(by=columns_to_sort_by, ascending=False)\n",
    "\n",
    "# Define the columns to filter by\n",
    "columns_to_filter_by = ['damage_am', 'damage_inc', 'bar_no', 'outcome_damage_inc', 'outcome_damage_amount', 'score_neg']\n",
    "\n",
    "# Sort the DataFrame in ascending order of the selected columns\n",
    "df = df.sort_values(by=columns_to_filter_by, ascending=True)\n",
    "\n",
    "# Select the top 200 customers\n",
    "top_customers = df.head(200)\n",
    "\n",
    "# Clear the contents of the output file\n",
    "with open('top_customers.csv', 'w', newline='') as f:\n",
    "    pass\n",
    "\n",
    "# Save the filtered dataset to a new file\n",
    "top_customers.to_csv('top_customers.csv', index=False)"
   ]
  },
  {
   "attachments": {},
   "cell_type": "markdown",
   "metadata": {},
   "source": [
    "We will now take the average of each feature and add the result at the end of the excel file. This smurf would be the most ideal smurf that has ever smurfed."
   ]
  },
  {
   "cell_type": "code",
   "execution_count": 2,
   "metadata": {},
   "outputs": [],
   "source": [
    "# Compute the averages of each column, excluding the first row\n",
    "avg = top_customers.iloc[1:, :].mean(axis=0)\n",
    "\n",
    "# Create a new row with the averages\n",
    "new_row = pd.DataFrame(avg).transpose()\n",
    "\n",
    "# Set the index of the new row to 'Feature Averages'\n",
    "new_row.index = ['Feature Averages']\n",
    "\n",
    "# Append the new row to the original DataFrame\n",
    "top_customers = pd.concat([top_customers, new_row], axis=0)\n",
    "\n",
    "# Convert to two decimal numbers\n",
    "top_customers.iloc[-1] = top_customers.iloc[-1].apply(lambda x: '{:.2f}'.format(x) if isinstance(x, float) else x)\n",
    "\n",
    "top_customers.to_csv('top_customers.csv', index=False)"
   ]
  },
  {
   "attachments": {},
   "cell_type": "markdown",
   "metadata": {},
   "source": [
    "# 5. Calculating the overall predicted revenue"
   ]
  },
  {
   "cell_type": "code",
   "execution_count": 3,
   "metadata": {},
   "outputs": [
    {
     "name": "stdout",
     "output_type": "stream",
     "text": [
      "Sum of 'outcome_profit' column: 964346.87\n"
     ]
    }
   ],
   "source": [
    "# calculating the sum of the outcome_profit\n",
    "profit_sum = df['outcome_profit'].sum()\n",
    "\n",
    "# Print the result\n",
    "print(\"Sum of 'outcome_profit' column:\", profit_sum)"
   ]
  }
 ],
 "metadata": {
  "kernelspec": {
   "display_name": "project-KreOZjcw",
   "language": "python",
   "name": "python3"
  },
  "language_info": {
   "codemirror_mode": {
    "name": "ipython",
    "version": 3
   },
   "file_extension": ".py",
   "mimetype": "text/x-python",
   "name": "python",
   "nbconvert_exporter": "python",
   "pygments_lexer": "ipython3",
   "version": "3.11.1"
  },
  "orig_nbformat": 4
 },
 "nbformat": 4,
 "nbformat_minor": 2
}
