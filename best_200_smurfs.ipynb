{
 "cells": [
  {
   "attachments": {},
   "cell_type": "markdown",
   "metadata": {},
   "source": [
    "# 4. Retrieving the best 200 smurfs"
   ]
  },
  {
   "attachments": {},
   "cell_type": "markdown",
   "metadata": {},
   "source": [
    "These criteria will be discussed inside the report, but in short: the more profit, income, cab requests, time spent in shops, scores from the staff, activities you partake in, outcome profit ... the better. On the other hand if you cause more damage, visit the bar often, have bad rating from staff ... the worse."
   ]
  },
  {
   "cell_type": "code",
   "execution_count": 4,
   "metadata": {},
   "outputs": [],
   "source": [
    "import pandas as pd\n",
    "\n",
    "# Load the dataset into a Pandas DataFrame\n",
    "df = pd.read_csv('score_cleaned.csv')\n",
    "\n",
    "# Define the columns to sort by\n",
    "columns_to_sort_by = ['income_am', 'profit_last_am', 'profit_am', 'crd_lim_rec', 'cab_requests', 'neighbor_income', 'nights_booked', 'shop_am', 'score_pos', 'insured', 'spa', 'sport', 'marketing_perm', 'yes_presidential', 'yes_prev_all_in_stay', 'yes_shop_use', 'yes_gold_status', 'outcome_profit']\n",
    "\n",
    "# Sort the DataFrame in descending order of the selected columns\n",
    "df = df.sort_values(by=columns_to_sort_by, ascending=False)\n",
    "\n",
    "# Define the columns to filter by\n",
    "columns_to_filter_by = ['damage_am', 'damage_inc', 'bar_no', 'outcome_damage_inc', 'outcome_damage_amount', 'score_neg']\n",
    "\n",
    "# Sort the DataFrame in ascending order of the selected columns\n",
    "df = df.sort_values(by=columns_to_filter_by, ascending=True)\n",
    "\n",
    "# Select the top 200 customers\n",
    "top_customers = df.head(200)\n",
    "\n",
    "# Save the filtered dataset to a new file\n",
    "top_customers.to_csv('top_customers.csv', index=False)"
   ]
  },
  {
   "attachments": {},
   "cell_type": "markdown",
   "metadata": {},
   "source": [
    "The ideal person will be discussed inside the report."
   ]
  }
 ],
 "metadata": {
  "kernelspec": {
   "display_name": "project-KreOZjcw",
   "language": "python",
   "name": "python3"
  },
  "language_info": {
   "codemirror_mode": {
    "name": "ipython",
    "version": 3
   },
   "file_extension": ".py",
   "mimetype": "text/x-python",
   "name": "python",
   "nbconvert_exporter": "python",
   "pygments_lexer": "ipython3",
   "version": "3.11.1"
  },
  "orig_nbformat": 4
 },
 "nbformat": 4,
 "nbformat_minor": 2
}
