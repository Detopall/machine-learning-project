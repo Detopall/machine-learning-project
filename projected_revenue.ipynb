{
 "cells": [
  {
   "attachments": {},
   "cell_type": "markdown",
   "metadata": {},
   "source": [
    "# 1.0 Projected revenue per client"
   ]
  },
  {
   "cell_type": "code",
   "execution_count": 72,
   "metadata": {},
   "outputs": [
    {
     "name": "stderr",
     "output_type": "stream",
     "text": [
      "C:\\Users\\denis\\AppData\\Local\\Temp\\ipykernel_11520\\816365406.py:9: MatplotlibDeprecationWarning: The seaborn styles shipped by Matplotlib are deprecated since 3.6, as they no longer correspond to the styles shipped by seaborn. However, they will remain available as 'seaborn-v0_8-<style>'. Alternatively, directly use the seaborn API instead.\n",
      "  plt.style.use('seaborn-darkgrid')\n"
     ]
    }
   ],
   "source": [
    "# import dependencies\n",
    "\n",
    "%matplotlib inline\n",
    "import numpy as np\n",
    "import pandas as pd\n",
    "import matplotlib as mpl\n",
    "import matplotlib.pyplot as plt\n",
    "import seaborn as sns\n",
    "plt.style.use('seaborn-darkgrid')"
   ]
  },
  {
   "cell_type": "code",
   "execution_count": 73,
   "metadata": {},
   "outputs": [
    {
     "name": "stdout",
     "output_type": "stream",
     "text": [
      "<class 'pandas.core.frame.DataFrame'>\n",
      "RangeIndex: 4947 entries, 0 to 4946\n",
      "Data columns (total 40 columns):\n",
      " #   Column                 Non-Null Count  Dtype  \n",
      "---  ------                 --------------  -----  \n",
      " 0   income_am              4947 non-null   float64\n",
      " 1   profit_last_am         4947 non-null   float64\n",
      " 2   profit_am              4947 non-null   float64\n",
      " 3   damage_am              4947 non-null   float64\n",
      " 4   damage_inc             4947 non-null   int64  \n",
      " 5   crd_lim_rec            4947 non-null   float64\n",
      " 6   credit_use_ic          4947 non-null   int64  \n",
      " 7   gluten_ic              4947 non-null   int64  \n",
      " 8   lactose_ic             4947 non-null   int64  \n",
      " 9   insurance_ic           4947 non-null   int64  \n",
      " 10  spa_ic                 4947 non-null   int64  \n",
      " 11  empl_ic                4947 non-null   int64  \n",
      " 12  cab_requests           4947 non-null   int64  \n",
      " 13  married_cd             4947 non-null   int64  \n",
      " 14  bar_no                 4947 non-null   int64  \n",
      " 15  sport_ic               4947 non-null   int64  \n",
      " 16  age                    4947 non-null   int64  \n",
      " 17  marketing_permit       4947 non-null   int64  \n",
      " 18  dining_ic              4947 non-null   int64  \n",
      " 19  presidential           4947 non-null   int64  \n",
      " 20  client_segment         4947 non-null   int64  \n",
      " 21  sect_empl              4947 non-null   int64  \n",
      " 22  prev_stay              4947 non-null   int64  \n",
      " 23  prev_all_in_stay       4947 non-null   int64  \n",
      " 24  divorce                4947 non-null   int64  \n",
      " 25  fam_adult_size         4947 non-null   int64  \n",
      " 26  children_no            4947 non-null   int64  \n",
      " 27  tenure_mts             4947 non-null   int64  \n",
      " 28  tenure_yrs             4947 non-null   int64  \n",
      " 29  company_ic             4947 non-null   int64  \n",
      " 30  claims_no              4947 non-null   int64  \n",
      " 31  claims_am              4947 non-null   float64\n",
      " 32  nights_booked          4947 non-null   int64  \n",
      " 33  shop_am                4947 non-null   float64\n",
      " 34  shop_use               4947 non-null   int64  \n",
      " 35  retired                4947 non-null   int64  \n",
      " 36  gold_status            4947 non-null   int64  \n",
      " 37  outcome_profit         4947 non-null   float64\n",
      " 38  outcome_damage_inc     4947 non-null   int64  \n",
      " 39  outcome_damage_amount  4947 non-null   float64\n",
      "dtypes: float64(9), int64(31)\n",
      "memory usage: 1.5 MB\n"
     ]
    }
   ],
   "source": [
    "df = pd.read_csv('train_V2_cleaned.csv')\n",
    "\n",
    "df.info()"
   ]
  },
  {
   "attachments": {},
   "cell_type": "markdown",
   "metadata": {},
   "source": [
    "## 1.1 Train/test-spit and standardisation"
   ]
  },
  {
   "attachments": {},
   "cell_type": "markdown",
   "metadata": {},
   "source": [
    "### 1.1.1 Shuffle data"
   ]
  },
  {
   "cell_type": "code",
   "execution_count": 74,
   "metadata": {},
   "outputs": [],
   "source": [
    "from random import Random\n",
    "df_shuffle = df.sample(frac=1, random_state=123)"
   ]
  },
  {
   "attachments": {},
   "cell_type": "markdown",
   "metadata": {},
   "source": [
    "### 1.1.2 Train/test-split"
   ]
  },
  {
   "cell_type": "code",
   "execution_count": 75,
   "metadata": {},
   "outputs": [
    {
     "name": "stderr",
     "output_type": "stream",
     "text": [
      "C:\\Users\\denis\\AppData\\Local\\Temp\\ipykernel_11520\\3570332103.py:3: FutureWarning: In a future version of pandas all arguments of DataFrame.drop except for the argument 'labels' will be keyword-only.\n",
      "  X = df_shuffle.drop(['outcome_profit'],1)\n"
     ]
    }
   ],
   "source": [
    "from sklearn.model_selection import train_test_split\n",
    "\n",
    "X = df_shuffle.drop(['outcome_profit'],1)\n",
    "y = df_shuffle['outcome_profit']\n",
    "\n",
    "X_train, X_test, y_train, y_test = train_test_split(X, y, test_size=0.2, random_state=123)"
   ]
  },
  {
   "attachments": {},
   "cell_type": "markdown",
   "metadata": {},
   "source": [
    "### 1.1.3 Standardise"
   ]
  },
  {
   "cell_type": "code",
   "execution_count": 76,
   "metadata": {},
   "outputs": [],
   "source": [
    "from sklearn.preprocessing import StandardScaler\n",
    "\n",
    "num_feat = X_train.columns\n",
    "\n",
    "scaler = StandardScaler()\n",
    "\n",
    "scaler.fit(X_train[num_feat])\n",
    "\n",
    "X_train_stand = X_train.copy()\n",
    "X_test_stand = X_test.copy()\n",
    "\n",
    "X_train_stand[num_feat] = scaler.fit_transform(X_train[num_feat])\n",
    "X_test_stand[num_feat] = scaler.transform(X_test[num_feat])"
   ]
  },
  {
   "attachments": {},
   "cell_type": "markdown",
   "metadata": {},
   "source": [
    "## 1.2 Polynomial regression"
   ]
  },
  {
   "attachments": {},
   "cell_type": "markdown",
   "metadata": {},
   "source": [
    "### 1.2.1 Cross-validation"
   ]
  },
  {
   "cell_type": "code",
   "execution_count": 78,
   "metadata": {},
   "outputs": [
    {
     "name": "stdout",
     "output_type": "stream",
     "text": [
      "Order 0: avg R^2 = -0.002516610466007574\n",
      "Order 1: avg R^2 = 0.27127576379472873\n",
      "Order 2: avg R^2 = -1.658413879513592e+19\n"
     ]
    }
   ],
   "source": [
    "# Calculate the best degree to use using the average score with cross-validation\n",
    "from sklearn.pipeline import Pipeline\n",
    "from sklearn.preprocessing import PolynomialFeatures\n",
    "from sklearn.model_selection import cross_val_score\n",
    "from sklearn.linear_model import LinearRegression\n",
    "\n",
    "avg_scores = [None] * 3\n",
    "sd_scores = [None] * 3 \t  # a degree > 3 will give R^2 in the (-) thousands\n",
    "for i in np.arange(0,3):\n",
    "    reg_poly = Pipeline([('stand', StandardScaler()),\n",
    "                  ('poly', PolynomialFeatures(degree=i)),\n",
    "                  ('linear', LinearRegression(fit_intercept=False))])\n",
    "    \n",
    "    scores = cross_val_score(reg_poly, X_train, y_train, scoring = 'r2', cv=5)\n",
    "\n",
    "    avg_scores[i] = scores.mean()\n",
    "    sd_scores[i] = np.sqrt(scores.var())/np.sqrt(5)\n",
    "    print(\"Order \" + str(i) + \": avg R^2 = \" + str(avg_scores[i]))"
   ]
  },
  {
   "cell_type": "code",
   "execution_count": 79,
   "metadata": {},
   "outputs": [
    {
     "data": {
      "image/png": "[encoded data removed]",
      "text/plain": [
       "<Figure size 800x400 with 1 Axes>"
      ]
     },
     "metadata": {},
     "output_type": "display_data"
    }
   ],
   "source": [
    "# Plotting the results\n",
    "\n",
    "fig, ax = plt.subplots(figsize=(8, 4))\n",
    "plt.scatter(np.arange(1,4), avg_scores, c='b', label='data')\n",
    "plt.axis('tight')\n",
    "plt.title(\"Cross-validation polynomials\")\n",
    "ax.set_xlabel(\"Order\")\n",
    "ax.set_ylabel(\"CV R^2\")\n",
    "plt.tight_layout()\n",
    "plt.show()"
   ]
  },
  {
   "cell_type": "code",
   "execution_count": 80,
   "metadata": {},
   "outputs": [
    {
     "name": "stdout",
     "output_type": "stream",
     "text": [
      "The order with maximum R^2 is 1\n"
     ]
    }
   ],
   "source": [
    "# The best order with the maximum R^2?\n",
    "\n",
    "max_value = max(avg_scores)\n",
    "max_index = avg_scores.index(max_value)\n",
    "print('The order with maximum R^2 is '+ str(max_index))"
   ]
  },
  {
   "cell_type": "code",
   "execution_count": 81,
   "metadata": {},
   "outputs": [
    {
     "name": "stdout",
     "output_type": "stream",
     "text": [
      "0.37536023807359387\n",
      "0.4072360753333407\n"
     ]
    }
   ],
   "source": [
    "# Show the best score with the training set and testing set\n",
    "\n",
    "reg_poly2 = Pipeline([('stand', StandardScaler()),\n",
    "                  ('poly', PolynomialFeatures(degree=1)),\n",
    "                  ('linear', LinearRegression(fit_intercept=False))])\n",
    "reg_poly2.fit(X_train, y_train)\n",
    "print(reg_poly2.score(X_train, y_train))\n",
    "print(reg_poly2.score(X_test, y_test))"
   ]
  },
  {
   "attachments": {},
   "cell_type": "markdown",
   "metadata": {},
   "source": [
    "# 1.3 K-nearest Neighbors"
   ]
  },
  {
   "attachments": {},
   "cell_type": "markdown",
   "metadata": {},
   "source": [
    "## 1.3.1 Cross-validation"
   ]
  },
  {
   "cell_type": "code",
   "execution_count": 82,
   "metadata": {},
   "outputs": [],
   "source": [
    "from sklearn.neighbors import KNeighborsRegressor\n",
    "from sklearn.model_selection import cross_val_score\n",
    "\n",
    "K = np.arange(1,100)\n",
    "cv_scores = []\n",
    "sd_scores = []\n",
    "# perform 5-fold cross validation on the  possible values for the radius (bandwidth)\n",
    "\n",
    "for k in K:\n",
    "    knn = KNeighborsRegressor(n_neighbors= k)\n",
    "    scores = cross_val_score(knn, X_train_stand, y_train,  cv=5)\n",
    "    cv_scores.append(scores.mean())\n",
    "    sd_scores.append(np.sqrt(scores.var())/np.sqrt(5))"
   ]
  },
  {
   "cell_type": "code",
   "execution_count": 83,
   "metadata": {},
   "outputs": [
    {
     "data": {
      "image/png": "[encoded data removed]",
      "text/plain": [
       "<Figure size 640x480 with 1 Axes>"
      ]
     },
     "metadata": {},
     "output_type": "display_data"
    },
    {
     "name": "stdout",
     "output_type": "stream",
     "text": [
      "The best k is 16\n"
     ]
    }
   ],
   "source": [
    "# Plotting the results\n",
    "\n",
    "max_value = max(cv_scores)\n",
    "max_index = cv_scores.index(max_value)\n",
    "\n",
    "plt.plot(K, cv_scores)\n",
    "plt.xlabel('k Neighbors ')\n",
    "plt.ylabel('R^2')\n",
    "\n",
    "plt.show()\n",
    "print('The best k is', K[max_index])"
   ]
  },
  {
   "cell_type": "code",
   "execution_count": 87,
   "metadata": {},
   "outputs": [
    {
     "data": {
      "image/png": "[encoded data removed]",
      "text/plain": [
       "<Figure size 640x480 with 1 Axes>"
      ]
     },
     "metadata": {},
     "output_type": "display_data"
    },
    {
     "name": "stdout",
     "output_type": "stream",
     "text": [
      "The best k is 16\n",
      "The best validated score is 0.22323780708967153\n"
     ]
    }
   ],
   "source": [
    "# let's zoom in to the nearest 45-55\n",
    "\n",
    "plt.plot(K[10:20],cv_scores[10:20])\n",
    "plt.xlabel('k Neighbors ')\n",
    "plt.ylabel('R^2')\n",
    "\n",
    "plt.show()\n",
    "print('The best k is', K[max_index])\n",
    "print('The best validated score is', max_value)"
   ]
  },
  {
   "cell_type": "code",
   "execution_count": 89,
   "metadata": {},
   "outputs": [
    {
     "name": "stdout",
     "output_type": "stream",
     "text": [
      "train value for k=16: KNeighborsRegressor(n_neighbors=16)\n",
      "test value for k=16: 0.30105098121409635\n"
     ]
    }
   ],
   "source": [
    "neighbors = 16\n",
    "\n",
    "knn = KNeighborsRegressor(n_neighbors=neighbors)\n",
    "knn.fit(X_train_stand, y_train)\n",
    "print(f'train value for k={neighbors}:', knn.fit(X_train_stand, y_train))\n",
    "print(f'test value for k={neighbors}:', knn.score(X_test_stand, y_test))"
   ]
  }
 ],
 "metadata": {
  "kernelspec": {
   "display_name": "project-KreOZjcw",
   "language": "python",
   "name": "python3"
  },
  "language_info": {
   "codemirror_mode": {
    "name": "ipython",
    "version": 3
   },
   "file_extension": ".py",
   "mimetype": "text/x-python",
   "name": "python",
   "nbconvert_exporter": "python",
   "pygments_lexer": "ipython3",
   "version": "3.11.1"
  },
  "orig_nbformat": 4,
  "vscode": {
   "interpreter": {
    "hash": "9d6a6c385d3b1ee503ef124f4469fd6e96237536029e6cbf9e56f9fb8117ec4e"
   }
  }
 },
 "nbformat": 4,
 "nbformat_minor": 2
}
